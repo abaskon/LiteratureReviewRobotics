{
  "nbformat": 4,
  "nbformat_minor": 0,
  "metadata": {
    "colab": {
      "name": "Author Keywords.ipynb",
      "provenance": [],
      "collapsed_sections": [],
      "mount_file_id": "1CNe_wvAb08E4E6cpnEyiiL0wI2UrcshO",
      "authorship_tag": "ABX9TyOUwPapPGFUkTyl6Meoqpes",
      "include_colab_link": true
    },
    "kernelspec": {
      "name": "python3",
      "display_name": "Python 3"
    },
    "language_info": {
      "name": "python"
    }
  },
  "cells": [
    {
      "cell_type": "markdown",
      "metadata": {
        "id": "view-in-github",
        "colab_type": "text"
      },
      "source": [
        "<a href=\"https://colab.research.google.com/github/abaskon/LiteratureReviewRobotics/blob/main/Heatmap.ipynb\" target=\"_parent\"><img src=\"https://colab.research.google.com/assets/colab-badge.svg\" alt=\"Open In Colab\"/></a>"
      ]
    },
    {
      "cell_type": "code",
      "metadata": {
        "colab": {
          "base_uri": "https://localhost:8080/"
        },
        "id": "GN1zbkt-Nxfx",
        "outputId": "24bf2b7d-58a4-42ac-fb32-b11cb4a94866"
      },
      "source": [
        "!git clone https://github.com/abaskon/LiteratureReviewRobotics.git"
      ],
      "execution_count": 10,
      "outputs": [
        {
          "output_type": "stream",
          "name": "stdout",
          "text": [
            "fatal: destination path 'LiteratureReviewRobotics' already exists and is not an empty directory.\n"
          ]
        }
      ]
    },
    {
      "cell_type": "code",
      "metadata": {
        "id": "haGi0FujaTU3"
      },
      "source": [
        "import numpy as np \n",
        "import pandas as pd \n",
        "import matplotlib.pyplot as plt\n",
        "import seaborn as sns\n"
      ],
      "execution_count": 2,
      "outputs": []
    },
    {
      "cell_type": "code",
      "metadata": {
        "id": "pswUU55dMf5K",
        "outputId": "cf4d5db2-39e6-4f0c-8598-5531c48d0abf",
        "colab": {
          "base_uri": "https://localhost:8080/"
        }
      },
      "source": [
        "df_1 = pd.read_csv('https://raw.githubusercontent.com/abaskon/LiteratureReviewRobotics/main/CSV_Files/2010.csv')\n",
        "df_2 = pd.read_csv('https://raw.githubusercontent.com/abaskon/LiteratureReviewRobotics/main/CSV_Files/2011.csv')\n",
        "df_3 = pd.read_csv('https://raw.githubusercontent.com/abaskon/LiteratureReviewRobotics/main/CSV_Files/2012.csv')\n",
        "df_4 = pd.read_csv('https://raw.githubusercontent.com/abaskon/LiteratureReviewRobotics/main/CSV_Files/2013.csv')\n",
        "df_5 = pd.read_csv('https://raw.githubusercontent.com/abaskon/LiteratureReviewRobotics/main/CSV_Files/2014.csv')\n",
        "df_6 = pd.read_csv('https://raw.githubusercontent.com/abaskon/LiteratureReviewRobotics/main/CSV_Files/2015.csv')\n",
        "df_7 = pd.read_csv('https://raw.githubusercontent.com/abaskon/LiteratureReviewRobotics/main/CSV_Files/2016.csv')\n",
        "df_8 = pd.read_csv('https://raw.githubusercontent.com/abaskon/LiteratureReviewRobotics/main/CSV_Files/2017.csv')\n",
        "df_9 = pd.read_csv('https://raw.githubusercontent.com/abaskon/LiteratureReviewRobotics/main/CSV_Files/2018.csv')\n",
        "df_10 =pd.read_csv('https://raw.githubusercontent.com/abaskon/LiteratureReviewRobotics/main/CSV_Files/2019.csv')\n",
        "df_11 =pd.read_csv('https://raw.githubusercontent.com/abaskon/LiteratureReviewRobotics/main/CSV_Files/2020.csv')\n",
        "\n",
        "\n",
        "data = pd.concat([df_1, df_2, df_3, df_4, df_5, df_6, df_7, df_8, df_9, df_10, df_11], axis = 0)\n",
        "\n",
        "data = data.drop_duplicates(keep = False)\n",
        "print(' Entries:', len(data), '\\n', data.columns)\n",
        "\n",
        "data.drop(['Abstract', 'Molecular Sequence Numbers',\n",
        "       'Chemicals/CAS', 'Tradenames', 'Manufacturers', 'Funding Details',\n",
        "       'Funding Text 1', 'Funding Text 2', 'Funding Text 3', 'Funding Text 4', 'Correspondence Address', 'Editors', 'Sponsors', 'ISSN', 'ISBN', 'CODEN',],axis=1,inplace=True)"
      ],
      "execution_count": 3,
      "outputs": [
        {
          "output_type": "stream",
          "name": "stdout",
          "text": [
            " Entries: 21707 \n",
            " Index(['Unnamed: 0', 'Authors', 'Author(s) ID', 'Title', 'Year',\n",
            "       'Source title', 'Volume', 'Issue', 'Art. No.', 'Page start', 'Page end',\n",
            "       'Page count', 'Cited by', 'DOI', 'Link', 'Affiliations',\n",
            "       'Authors with affiliations', 'Abstract', 'Author Keywords',\n",
            "       'Index Keywords', 'Molecular Sequence Numbers', 'Chemicals/CAS',\n",
            "       'Tradenames', 'Manufacturers', 'Funding Details', 'Funding Text 1',\n",
            "       'Funding Text 2', 'Funding Text 3', 'Funding Text 4', 'Funding Text 5',\n",
            "       'Funding Text 6', 'References', 'Correspondence Address', 'Editors',\n",
            "       'Sponsors', 'Publisher', 'Conference name', 'Conference date',\n",
            "       'Conference location', 'Conference code', 'ISSN', 'ISBN', 'CODEN',\n",
            "       'PubMed ID', 'Language of Original Document',\n",
            "       'Abbreviated Source Title', 'Document Type', 'Publication Stage',\n",
            "       'Open Access', 'Source', 'EID', 'Unnamed: 46', 'Unnamed: 45',\n",
            "       'Unnamed: 47', 'Unnamed: 48', 'Unnamed: 49', 'Unnamed: 50',\n",
            "       'Unnamed: 51', 'Unnamed: 52', 'Unnamed: 53'],\n",
            "      dtype='object')\n"
          ]
        },
        {
          "output_type": "stream",
          "name": "stderr",
          "text": [
            "/usr/local/lib/python3.7/dist-packages/pandas/core/frame.py:4174: SettingWithCopyWarning: \n",
            "A value is trying to be set on a copy of a slice from a DataFrame\n",
            "\n",
            "See the caveats in the documentation: https://pandas.pydata.org/pandas-docs/stable/user_guide/indexing.html#returning-a-view-versus-a-copy\n",
            "  errors=errors,\n"
          ]
        }
      ]
    },
    {
      "cell_type": "code",
      "metadata": {
        "id": "GwwwP_lnIjZG"
      },
      "source": [
        "data =pd.read_csv('https://raw.githubusercontent.com/abaskon/LiteratureReviewRobotics/main/csv/YvD.csv')\n"
      ],
      "execution_count": 4,
      "outputs": []
    },
    {
      "cell_type": "code",
      "metadata": {
        "id": "ExoazlUxARuh",
        "outputId": "b65c2ae8-2daa-4a05-92ee-58d3eaec625a",
        "colab": {
          "base_uri": "https://localhost:8080/",
          "height": 80
        }
      },
      "source": [
        "data.head(1)"
      ],
      "execution_count": 5,
      "outputs": [
        {
          "output_type": "execute_result",
          "data": {
            "text/html": [
              "\n",
              "  <div id=\"df-6e671d2e-75d5-4891-b2e8-1fcf37e37f8e\">\n",
              "    <div class=\"colab-df-container\">\n",
              "      <div>\n",
              "<style scoped>\n",
              "    .dataframe tbody tr th:only-of-type {\n",
              "        vertical-align: middle;\n",
              "    }\n",
              "\n",
              "    .dataframe tbody tr th {\n",
              "        vertical-align: top;\n",
              "    }\n",
              "\n",
              "    .dataframe thead th {\n",
              "        text-align: right;\n",
              "    }\n",
              "</style>\n",
              "<table border=\"1\" class=\"dataframe\">\n",
              "  <thead>\n",
              "    <tr style=\"text-align: right;\">\n",
              "      <th></th>\n",
              "      <th>Year</th>\n",
              "      <th>Documents</th>\n",
              "      <th>Cumulative</th>\n",
              "    </tr>\n",
              "  </thead>\n",
              "  <tbody>\n",
              "    <tr>\n",
              "      <th>0</th>\n",
              "      <td>1993</td>\n",
              "      <td>3458</td>\n",
              "      <td>3458</td>\n",
              "    </tr>\n",
              "  </tbody>\n",
              "</table>\n",
              "</div>\n",
              "      <button class=\"colab-df-convert\" onclick=\"convertToInteractive('df-6e671d2e-75d5-4891-b2e8-1fcf37e37f8e')\"\n",
              "              title=\"Convert this dataframe to an interactive table.\"\n",
              "              style=\"display:none;\">\n",
              "        \n",
              "  <svg xmlns=\"http://www.w3.org/2000/svg\" height=\"24px\"viewBox=\"0 0 24 24\"\n",
              "       width=\"24px\">\n",
              "    <path d=\"M0 0h24v24H0V0z\" fill=\"none\"/>\n",
              "    <path d=\"M18.56 5.44l.94 2.06.94-2.06 2.06-.94-2.06-.94-.94-2.06-.94 2.06-2.06.94zm-11 1L8.5 8.5l.94-2.06 2.06-.94-2.06-.94L8.5 2.5l-.94 2.06-2.06.94zm10 10l.94 2.06.94-2.06 2.06-.94-2.06-.94-.94-2.06-.94 2.06-2.06.94z\"/><path d=\"M17.41 7.96l-1.37-1.37c-.4-.4-.92-.59-1.43-.59-.52 0-1.04.2-1.43.59L10.3 9.45l-7.72 7.72c-.78.78-.78 2.05 0 2.83L4 21.41c.39.39.9.59 1.41.59.51 0 1.02-.2 1.41-.59l7.78-7.78 2.81-2.81c.8-.78.8-2.07 0-2.86zM5.41 20L4 18.59l7.72-7.72 1.47 1.35L5.41 20z\"/>\n",
              "  </svg>\n",
              "      </button>\n",
              "      \n",
              "  <style>\n",
              "    .colab-df-container {\n",
              "      display:flex;\n",
              "      flex-wrap:wrap;\n",
              "      gap: 12px;\n",
              "    }\n",
              "\n",
              "    .colab-df-convert {\n",
              "      background-color: #E8F0FE;\n",
              "      border: none;\n",
              "      border-radius: 50%;\n",
              "      cursor: pointer;\n",
              "      display: none;\n",
              "      fill: #1967D2;\n",
              "      height: 32px;\n",
              "      padding: 0 0 0 0;\n",
              "      width: 32px;\n",
              "    }\n",
              "\n",
              "    .colab-df-convert:hover {\n",
              "      background-color: #E2EBFA;\n",
              "      box-shadow: 0px 1px 2px rgba(60, 64, 67, 0.3), 0px 1px 3px 1px rgba(60, 64, 67, 0.15);\n",
              "      fill: #174EA6;\n",
              "    }\n",
              "\n",
              "    [theme=dark] .colab-df-convert {\n",
              "      background-color: #3B4455;\n",
              "      fill: #D2E3FC;\n",
              "    }\n",
              "\n",
              "    [theme=dark] .colab-df-convert:hover {\n",
              "      background-color: #434B5C;\n",
              "      box-shadow: 0px 1px 3px 1px rgba(0, 0, 0, 0.15);\n",
              "      filter: drop-shadow(0px 1px 2px rgba(0, 0, 0, 0.3));\n",
              "      fill: #FFFFFF;\n",
              "    }\n",
              "  </style>\n",
              "\n",
              "      <script>\n",
              "        const buttonEl =\n",
              "          document.querySelector('#df-6e671d2e-75d5-4891-b2e8-1fcf37e37f8e button.colab-df-convert');\n",
              "        buttonEl.style.display =\n",
              "          google.colab.kernel.accessAllowed ? 'block' : 'none';\n",
              "\n",
              "        async function convertToInteractive(key) {\n",
              "          const element = document.querySelector('#df-6e671d2e-75d5-4891-b2e8-1fcf37e37f8e');\n",
              "          const dataTable =\n",
              "            await google.colab.kernel.invokeFunction('convertToInteractive',\n",
              "                                                     [key], {});\n",
              "          if (!dataTable) return;\n",
              "\n",
              "          const docLinkHtml = 'Like what you see? Visit the ' +\n",
              "            '<a target=\"_blank\" href=https://colab.research.google.com/notebooks/data_table.ipynb>data table notebook</a>'\n",
              "            + ' to learn more about interactive tables.';\n",
              "          element.innerHTML = '';\n",
              "          dataTable['output_type'] = 'display_data';\n",
              "          await google.colab.output.renderOutput(dataTable, element);\n",
              "          const docLink = document.createElement('div');\n",
              "          docLink.innerHTML = docLinkHtml;\n",
              "          element.appendChild(docLink);\n",
              "        }\n",
              "      </script>\n",
              "    </div>\n",
              "  </div>\n",
              "  "
            ],
            "text/plain": [
              "   Year  Documents  Cumulative\n",
              "0  1993       3458        3458"
            ]
          },
          "metadata": {},
          "execution_count": 5
        }
      ]
    },
    {
      "cell_type": "code",
      "metadata": {
        "id": "mrzfM2g0wE7m"
      },
      "source": [
        "# Heat Map\n",
        "\n",
        "import pandas as pd\n",
        "import numpy as np\n",
        "import matplotlib.pyplot as plt\n",
        "import seaborn as sns\n",
        "df = pd.read_csv(\"rows.csv\")\n",
        "\n",
        "year = ['2011', '2012', '2013','2014','2015','2016','2017','2018','2019','2020','2021']\n",
        "plt.subplots(figsize=(30,40))\n",
        "ax =sns.heatmap(df.transpose(),annot=True)\n",
        "plt.savefig(\"test.svg\", format=\"svg\")"
      ],
      "execution_count": null,
      "outputs": []
    },
    {
      "cell_type": "code",
      "metadata": {
        "id": "drzjlAKxL3oe",
        "colab": {
          "base_uri": "https://localhost:8080/",
          "height": 649
        },
        "outputId": "dfdc1255-66d1-4e8e-90e8-2310dcd9e3c6"
      },
      "source": [
        "\n",
        "font = {'family' : 'normal',\n",
        "       # 'weight' : 'bold',\n",
        "        'size'   : 13}\n",
        "\n",
        "\n",
        "\n",
        "plt.rc('font', **font)\n",
        "\n",
        "fig, ax = plt.subplots(figsize=(22,10))\n",
        "#ax2 = ax.twinx()\n",
        "ax.set_zorder(10)\n",
        "ax.patch.set_visible(False)\n",
        "\n",
        "ax.set_title('Publication Trend')\n",
        "ax.set_xlabel('Year' ,fontsize =15)\n",
        "\n",
        "ax.plot(data['Year'], data['Documents'], color='green', marker='D')\n",
        "#ax2.plot(data['Year'], data['Cumulative'], color='#ADD8E6', marker='|')\n",
        "\n",
        "ax.set_ylabel('Document Count' , fontsize =15)\n",
        "#ax2.set_ylabel('Cumulative Count')\n",
        "ax.legend(['Document Count'],loc='upper left')\n",
        "#ax2.legend(['Cumulative Count'], loc='upper center')\n",
        "\n",
        "# Train Algorithm (Polynomial)\n",
        "degree = 3\n",
        "poly_fit = np.poly1d(np.polyfit(data.Year,data.Documents, degree))\n",
        "\n",
        "# Plot data\n",
        "xx = np.linspace(1993, 2022, 1000)\n",
        "ax.plot(xx, poly_fit(xx), c='blue',linestyle='--')\n",
        "\n",
        "p21= round(poly_fit(2021))\n",
        "p22=round(poly_fit(2022))\n",
        "\n",
        "\n",
        "ax.scatter(2021, p21)\n",
        "ax.scatter(2022, p22)\n",
        "ax.text(x=2021,y=p21,s=str(p21))\n",
        "ax.text(x=2022,y=p22,s=str(p22))\n",
        "plt.xticks(list(plt.xticks()[0]) + [2021,2022])\n",
        "ax.grid(True)\n",
        "\n",
        "plt.show()\n"
      ],
      "execution_count": 26,
      "outputs": [
        {
          "output_type": "stream",
          "name": "stderr",
          "text": [
            "findfont: Font family ['normal'] not found. Falling back to DejaVu Sans.\n"
          ]
        },
        {
          "output_type": "display_data",
          "data": {
            "image/png": "[encoded data removed]",
            "text/plain": [
              "<Figure size 1584x720 with 1 Axes>"
            ]
          },
          "metadata": {
            "needs_background": "light"
          }
        }
      ]
    },
    {
      "cell_type": "code",
      "metadata": {
        "id": "rfgOg24PTT_E"
      },
      "source": [
        "MRS = pd.read_csv(\"https://raw.githubusercontent.com/abaskon/LiteratureReviewRobotics/main/csv/Most_Relevant_Sources.csv\")"
      ],
      "execution_count": null,
      "outputs": []
    },
    {
      "cell_type": "code",
      "source": [
        "MRS['Source'] = MRS['Sources'].str.slice(0, 50)\n",
        "MRS.head(2)"
      ],
      "metadata": {
        "id": "A20NzvybKwJC"
      },
      "execution_count": null,
      "outputs": []
    },
    {
      "cell_type": "code",
      "metadata": {
        "id": "q78dRaC6wzzt"
      },
      "source": [
        "\n",
        "plt.figure(figsize=(15,8))\n",
        "\n",
        "sns.set(style=\"darkgrid\")\n",
        "\n",
        "\n",
        "sns.set_theme(style=\"whitegrid\")\n",
        "sns.barplot(x=\"Articles\",y = \"trstr\", data=MRS,color ='#0000FF' )\n",
        "\n",
        "sns.despine(left=True, bottom=True)\n",
        "\n",
        "plt.tight_layout()\n",
        "plt.show()"
      ],
      "execution_count": null,
      "outputs": []
    }
  ]
}