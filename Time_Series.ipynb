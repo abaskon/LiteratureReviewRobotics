{
  "nbformat": 4,
  "nbformat_minor": 0,
  "metadata": {
    "colab": {
      "name": "Time_Series.ipynb",
      "provenance": [],
      "mount_file_id": "https://github.com/abaskon/Time_series/blob/main/Time_Series.ipynb",
      "authorship_tag": "ABX9TyNKssZq+0gHk8CxW/5aZkxg",
      "include_colab_link": true
    },
    "kernelspec": {
      "name": "python3",
      "display_name": "Python 3"
    },
    "language_info": {
      "name": "python"
    }
  },
  "cells": [
    {
      "cell_type": "markdown",
      "metadata": {
        "id": "view-in-github",
        "colab_type": "text"
      },
      "source": [
        "<a href=\"https://colab.research.google.com/github/abaskon/LiteratureReviewRobotics/blob/main/Time_Series.ipynb\" target=\"_parent\"><img src=\"https://colab.research.google.com/assets/colab-badge.svg\" alt=\"Open In Colab\"/></a>"
      ]
    },
    {
      "cell_type": "code",
      "metadata": {
        "colab": {
          "base_uri": "https://localhost:8080/"
        },
        "id": "GN1zbkt-Nxfx",
        "outputId": "31b07d7b-725f-4ae0-c40b-6d015bb09318"
      },
      "source": [
        "!git clone https://github.com/abaskon/LiteratureReviewRobotics.git"
      ],
      "execution_count": 1,
      "outputs": [
        {
          "output_type": "stream",
          "name": "stdout",
          "text": [
            "Cloning into 'LiteratureReviewRobotics'...\n",
            "remote: Enumerating objects: 20, done.\u001b[K\n",
            "remote: Counting objects: 100% (20/20), done.\u001b[K\n",
            "remote: Compressing objects: 100% (18/18), done.\u001b[K\n",
            "remote: Total 20 (delta 4), reused 0 (delta 0), pack-reused 0\u001b[K\n",
            "Unpacking objects: 100% (20/20), done.\n"
          ]
        }
      ]
    },
    {
      "cell_type": "code",
      "metadata": {
        "id": "haGi0FujaTU3"
      },
      "source": [
        "import numpy as np \n",
        "import pandas as pd \n",
        "import matplotlib.pyplot as plt\n",
        "import seaborn as sns\n",
        "import os\n",
        "import datetime\n",
        "import IPython\n",
        "import IPython.display\n",
        "import numpy as np\n",
        "\n",
        "import tensorflow as tf\n",
        "from tensorflow.keras.models import Sequential\n",
        "from tensorflow.keras.layers import LSTM\n",
        "from tensorflow.keras.layers import Dense, Dropout\n",
        "from sklearn.preprocessing import StandardScaler"
      ],
      "execution_count": 2,
      "outputs": []
    },
    {
      "cell_type": "code",
      "metadata": {
        "id": "pswUU55dMf5K"
      },
      "source": [
        "df_1 = pd.read_csv('https://raw.githubusercontent.com/abaskon/LiteratureReviewRobotics/main/CSV_Files/2010.csv')\n",
        "df_2 = pd.read_csv('https://raw.githubusercontent.com/abaskon/LiteratureReviewRobotics/main/CSV_Files/2011.csv')\n",
        "df_3 = pd.read_csv('https://raw.githubusercontent.com/abaskon/LiteratureReviewRobotics/main/CSV_Files/2012.csv')\n",
        "df_4 = pd.read_csv('https://raw.githubusercontent.com/abaskon/LiteratureReviewRobotics/main/CSV_Files/2013.csv')\n",
        "df_5 = pd.read_csv('https://raw.githubusercontent.com/abaskon/LiteratureReviewRobotics/main/CSV_Files/2014.csv')\n",
        "df_6 = pd.read_csv('https://raw.githubusercontent.com/abaskon/LiteratureReviewRobotics/main/CSV_Files/2015.csv')\n",
        "df_7 = pd.read_csv('https://raw.githubusercontent.com/abaskon/LiteratureReviewRobotics/main/CSV_Files/2016.csv')\n",
        "df_8 = pd.read_csv('https://raw.githubusercontent.com/abaskon/LiteratureReviewRobotics/main/CSV_Files/2017.csv')\n",
        "df_9 = pd.read_csv('https://raw.githubusercontent.com/abaskon/LiteratureReviewRobotics/main/CSV_Files/2018.csv')\n",
        "df_10 =pd.read_csv('https://raw.githubusercontent.com/abaskon/LiteratureReviewRobotics/main/CSV_Files/2019.csv')\n",
        "df_11 =pd.read_csv('https://raw.githubusercontent.com/abaskon/LiteratureReviewRobotics/main/CSV_Files/2020.csv')\n",
        "\n",
        "\n",
        "data = pd.concat([df_1, df_2, df_3, df_4, df_5, df_6, df_7, df_8, df_9, df_10, df_11], axis = 0)\n",
        "\n",
        "data = data.drop_duplicates(keep = False)\n",
        "print(' Entries:', len(data), '\\n', data.columns)\n",
        "\n",
        "data.drop(['Abstract', 'Molecular Sequence Numbers',\n",
        "       'Chemicals/CAS', 'Tradenames', 'Manufacturers', 'Funding Details',\n",
        "       'Funding Text 1', 'Funding Text 2', 'Funding Text 3', 'Funding Text 4', 'Correspondence Address', 'Editors', 'Sponsors', 'ISSN', 'ISBN', 'CODEN',],axis=1,inplace=True)"
      ],
      "execution_count": null,
      "outputs": []
    },
    {
      "cell_type": "code",
      "metadata": {
        "id": "-IscPXQ0D4Ln",
        "outputId": "e9eed7e8-a7db-478f-a597-7fd7c3bffe01",
        "colab": {
          "base_uri": "https://localhost:8080/"
        }
      },
      "source": [
        "print(' Entries:', len(data), '\\n', data.columns)"
      ],
      "execution_count": 16,
      "outputs": [
        {
          "output_type": "stream",
          "name": "stdout",
          "text": [
            " Entries: 21707 \n",
            " Index(['Unnamed: 0', 'Authors', 'Author(s) ID', 'Title', 'Year',\n",
            "       'Source title', 'Volume', 'Issue', 'Art. No.', 'Page start', 'Page end',\n",
            "       'Page count', 'Cited by', 'DOI', 'Link', 'Affiliations',\n",
            "       'Authors with affiliations', 'Author Keywords', 'Index Keywords',\n",
            "       'Funding Text 5', 'Funding Text 6', 'References', 'Publisher',\n",
            "       'Conference name', 'Conference date', 'Conference location',\n",
            "       'Conference code', 'PubMed ID', 'Language of Original Document',\n",
            "       'Abbreviated Source Title', 'Document Type', 'Publication Stage',\n",
            "       'Open Access', 'Source', 'EID', 'Unnamed: 46', 'Unnamed: 45',\n",
            "       'Unnamed: 47', 'Unnamed: 48', 'Unnamed: 49', 'Unnamed: 50',\n",
            "       'Unnamed: 51', 'Unnamed: 52', 'Unnamed: 53'],\n",
            "      dtype='object')\n"
          ]
        }
      ]
    },
    {
      "cell_type": "code",
      "metadata": {
        "id": "fCNy94QhPopo"
      },
      "source": [
        "data.to_csv(\"MetaData.csv\")"
      ],
      "execution_count": 17,
      "outputs": []
    },
    {
      "cell_type": "code",
      "metadata": {
        "colab": {
          "base_uri": "https://localhost:8080/",
          "height": 1000
        },
        "id": "Bh9OtZ-hQPIR",
        "outputId": "681f80e4-9d4f-4cee-ad77-75dbf5c5385e"
      },
      "source": [
        "data.head(10)"
      ],
      "execution_count": 18,
      "outputs": [
        {
          "output_type": "execute_result",
          "data": {
            "text/html": [
              "<div>\n",
              "<style scoped>\n",
              "    .dataframe tbody tr th:only-of-type {\n",
              "        vertical-align: middle;\n",
              "    }\n",
              "\n",
              "    .dataframe tbody tr th {\n",
              "        vertical-align: top;\n",
              "    }\n",
              "\n",
              "    .dataframe thead th {\n",
              "        text-align: right;\n",
              "    }\n",
              "</style>\n",
              "<table border=\"1\" class=\"dataframe\">\n",
              "  <thead>\n",
              "    <tr style=\"text-align: right;\">\n",
              "      <th></th>\n",
              "      <th>Unnamed: 0</th>\n",
              "      <th>Authors</th>\n",
              "      <th>Author(s) ID</th>\n",
              "      <th>Title</th>\n",
              "      <th>Year</th>\n",
              "      <th>Source title</th>\n",
              "      <th>Volume</th>\n",
              "      <th>Issue</th>\n",
              "      <th>Art. No.</th>\n",
              "      <th>Page start</th>\n",
              "      <th>Page end</th>\n",
              "      <th>Page count</th>\n",
              "      <th>Cited by</th>\n",
              "      <th>DOI</th>\n",
              "      <th>Link</th>\n",
              "      <th>Affiliations</th>\n",
              "      <th>Authors with affiliations</th>\n",
              "      <th>Author Keywords</th>\n",
              "      <th>Index Keywords</th>\n",
              "      <th>Funding Text 5</th>\n",
              "      <th>Funding Text 6</th>\n",
              "      <th>References</th>\n",
              "      <th>Publisher</th>\n",
              "      <th>Conference name</th>\n",
              "      <th>Conference date</th>\n",
              "      <th>Conference location</th>\n",
              "      <th>Conference code</th>\n",
              "      <th>PubMed ID</th>\n",
              "      <th>Language of Original Document</th>\n",
              "      <th>Abbreviated Source Title</th>\n",
              "      <th>Document Type</th>\n",
              "      <th>Publication Stage</th>\n",
              "      <th>Open Access</th>\n",
              "      <th>Source</th>\n",
              "      <th>EID</th>\n",
              "      <th>Unnamed: 46</th>\n",
              "      <th>Unnamed: 45</th>\n",
              "      <th>Unnamed: 47</th>\n",
              "      <th>Unnamed: 48</th>\n",
              "      <th>Unnamed: 49</th>\n",
              "      <th>Unnamed: 50</th>\n",
              "      <th>Unnamed: 51</th>\n",
              "      <th>Unnamed: 52</th>\n",
              "      <th>Unnamed: 53</th>\n",
              "    </tr>\n",
              "  </thead>\n",
              "  <tbody>\n",
              "    <tr>\n",
              "      <th>0</th>\n",
              "      <td>0.0</td>\n",
              "      <td>LeCun Y., Kavukcuoglu K., Farabet C.</td>\n",
              "      <td>55666793600;25646533000;35177127500;</td>\n",
              "      <td>Convolutional networks and applications in vision</td>\n",
              "      <td>2010</td>\n",
              "      <td>ISCAS 2010 - 2010 IEEE International Symposium...</td>\n",
              "      <td>NaN</td>\n",
              "      <td>NaN</td>\n",
              "      <td>5537907</td>\n",
              "      <td>253</td>\n",
              "      <td>256</td>\n",
              "      <td>NaN</td>\n",
              "      <td>1144</td>\n",
              "      <td>10.1109/ISCAS.2010.5537907</td>\n",
              "      <td>https://www.scopus.com/inward/record.uri?eid=2...</td>\n",
              "      <td>Computer Science Department, Courant Institute...</td>\n",
              "      <td>LeCun, Y., Computer Science Department, Couran...</td>\n",
              "      <td>NaN</td>\n",
              "      <td>Auditory perception; Commercial applications; ...</td>\n",
              "      <td>NaN</td>\n",
              "      <td>NaN</td>\n",
              "      <td>LeCun, Y., Boser, B., Denker, J.S., Henderson,...</td>\n",
              "      <td>NaN</td>\n",
              "      <td>2010 IEEE International Symposium on Circuits ...</td>\n",
              "      <td>30 May 2010 through 2 June 2010</td>\n",
              "      <td>Paris</td>\n",
              "      <td>81485</td>\n",
              "      <td>NaN</td>\n",
              "      <td>English</td>\n",
              "      <td>ISCAS - IEEE Int. Symp. Circuits Syst.: Nano-B...</td>\n",
              "      <td>Conference Paper</td>\n",
              "      <td>Final</td>\n",
              "      <td>All Open Access, Green</td>\n",
              "      <td>Scopus</td>\n",
              "      <td>2-s2.0-77955998889</td>\n",
              "      <td>NaN</td>\n",
              "      <td>NaN</td>\n",
              "      <td>NaN</td>\n",
              "      <td>NaN</td>\n",
              "      <td>NaN</td>\n",
              "      <td>NaN</td>\n",
              "      <td>NaN</td>\n",
              "      <td>NaN</td>\n",
              "      <td>NaN</td>\n",
              "    </tr>\n",
              "    <tr>\n",
              "      <th>1</th>\n",
              "      <td>1.0</td>\n",
              "      <td>Nelson B.J., Kaliakatsos I.K., Abbott J.J.</td>\n",
              "      <td>57202020272;6507409396;7201623373;</td>\n",
              "      <td>Microrobots for minimally invasive medicine</td>\n",
              "      <td>2010</td>\n",
              "      <td>Annual Review of Biomedical Engineering</td>\n",
              "      <td>12</td>\n",
              "      <td>NaN</td>\n",
              "      <td>NaN</td>\n",
              "      <td>55</td>\n",
              "      <td>85</td>\n",
              "      <td>NaN</td>\n",
              "      <td>1066</td>\n",
              "      <td>10.1146/annurev-bioeng-010510-103409</td>\n",
              "      <td>https://www.scopus.com/inward/record.uri?eid=2...</td>\n",
              "      <td>Institute of Robotics and Intelligent Systems,...</td>\n",
              "      <td>Nelson, B.J., Institute of Robotics and Intell...</td>\n",
              "      <td>medical; microrobot; minimally invasive; surgi...</td>\n",
              "      <td>medical; Micro robots; Minimally invasive; sur...</td>\n",
              "      <td>NaN</td>\n",
              "      <td>NaN</td>\n",
              "      <td>Tendick, F., Sastry, S.S., Fearing, R.S., Cohn...</td>\n",
              "      <td>NaN</td>\n",
              "      <td>NaN</td>\n",
              "      <td>NaN</td>\n",
              "      <td>NaN</td>\n",
              "      <td>NaN</td>\n",
              "      <td>2.04156e+07</td>\n",
              "      <td>English</td>\n",
              "      <td>Annu. Rev. Biomed. Eng.</td>\n",
              "      <td>Review</td>\n",
              "      <td>Final</td>\n",
              "      <td>NaN</td>\n",
              "      <td>Scopus</td>\n",
              "      <td>2-s2.0-77955605195</td>\n",
              "      <td>NaN</td>\n",
              "      <td>NaN</td>\n",
              "      <td>NaN</td>\n",
              "      <td>NaN</td>\n",
              "      <td>NaN</td>\n",
              "      <td>NaN</td>\n",
              "      <td>NaN</td>\n",
              "      <td>NaN</td>\n",
              "      <td>NaN</td>\n",
              "    </tr>\n",
              "    <tr>\n",
              "      <th>2</th>\n",
              "      <td>2.0</td>\n",
              "      <td>Webster III R.J., Jones B.A.</td>\n",
              "      <td>7402927752;7404958235;</td>\n",
              "      <td>Design and kinematic modeling of constant curv...</td>\n",
              "      <td>2010</td>\n",
              "      <td>International Journal of Robotics Research</td>\n",
              "      <td>29</td>\n",
              "      <td>13</td>\n",
              "      <td>NaN</td>\n",
              "      <td>1661</td>\n",
              "      <td>1683</td>\n",
              "      <td>NaN</td>\n",
              "      <td>965</td>\n",
              "      <td>10.1177/0278364910368147</td>\n",
              "      <td>https://www.scopus.com/inward/record.uri?eid=2...</td>\n",
              "      <td>Department of Mechanical Engineering, Vanderbi...</td>\n",
              "      <td>Webster III, R.J., Department of Mechanical En...</td>\n",
              "      <td>biologically inspired robot; continuum robot; ...</td>\n",
              "      <td>Biologically-inspired robots; Compliant assemb...</td>\n",
              "      <td>NaN</td>\n",
              "      <td>NaN</td>\n",
              "      <td>Anderson, V., Horn, R., Tensor arm manipulator...</td>\n",
              "      <td>NaN</td>\n",
              "      <td>NaN</td>\n",
              "      <td>NaN</td>\n",
              "      <td>NaN</td>\n",
              "      <td>NaN</td>\n",
              "      <td>NaN</td>\n",
              "      <td>English</td>\n",
              "      <td>Int J Rob Res</td>\n",
              "      <td>Article</td>\n",
              "      <td>Final</td>\n",
              "      <td>NaN</td>\n",
              "      <td>Scopus</td>\n",
              "      <td>2-s2.0-78650312297</td>\n",
              "      <td>NaN</td>\n",
              "      <td>NaN</td>\n",
              "      <td>NaN</td>\n",
              "      <td>NaN</td>\n",
              "      <td>NaN</td>\n",
              "      <td>NaN</td>\n",
              "      <td>NaN</td>\n",
              "      <td>NaN</td>\n",
              "      <td>NaN</td>\n",
              "    </tr>\n",
              "    <tr>\n",
              "      <th>3</th>\n",
              "      <td>3.0</td>\n",
              "      <td>Suo Z.</td>\n",
              "      <td>57203199871;</td>\n",
              "      <td>Theory of dielectric elastomers</td>\n",
              "      <td>2010</td>\n",
              "      <td>Acta Mechanica Solida Sinica</td>\n",
              "      <td>23</td>\n",
              "      <td>6</td>\n",
              "      <td>NaN</td>\n",
              "      <td>549</td>\n",
              "      <td>578</td>\n",
              "      <td>NaN</td>\n",
              "      <td>649</td>\n",
              "      <td>10.1016/S0894-9166(11)60004-9</td>\n",
              "      <td>https://www.scopus.com/inward/record.uri?eid=2...</td>\n",
              "      <td>School of Engineering and Applied Sciences, Ka...</td>\n",
              "      <td>Suo, Z., School of Engineering and Applied Sci...</td>\n",
              "      <td>dielectric elastomer; electromechanical instab...</td>\n",
              "      <td>Active material; Alternative routes; Braille d...</td>\n",
              "      <td>NaN</td>\n",
              "      <td>NaN</td>\n",
              "      <td>Mathger, L.M., Denton, E.J., Marshall, N.J., H...</td>\n",
              "      <td>NaN</td>\n",
              "      <td>NaN</td>\n",
              "      <td>NaN</td>\n",
              "      <td>NaN</td>\n",
              "      <td>NaN</td>\n",
              "      <td>NaN</td>\n",
              "      <td>English</td>\n",
              "      <td>Acta Mech. Solida Sin.</td>\n",
              "      <td>Article</td>\n",
              "      <td>Final</td>\n",
              "      <td>NaN</td>\n",
              "      <td>Scopus</td>\n",
              "      <td>2-s2.0-78650965078</td>\n",
              "      <td>NaN</td>\n",
              "      <td>NaN</td>\n",
              "      <td>NaN</td>\n",
              "      <td>NaN</td>\n",
              "      <td>NaN</td>\n",
              "      <td>NaN</td>\n",
              "      <td>NaN</td>\n",
              "      <td>NaN</td>\n",
              "      <td>NaN</td>\n",
              "    </tr>\n",
              "    <tr>\n",
              "      <th>4</th>\n",
              "      <td>4.0</td>\n",
              "      <td>Grisetti G., Kummerle R., Stachniss C., Burgar...</td>\n",
              "      <td>9839895600;57080207100;6507517732;7003610380;</td>\n",
              "      <td>A tutorial on graph-based SLAM</td>\n",
              "      <td>2010</td>\n",
              "      <td>IEEE Intelligent Transportation Systems Magazine</td>\n",
              "      <td>2</td>\n",
              "      <td>4</td>\n",
              "      <td>5681215</td>\n",
              "      <td>31</td>\n",
              "      <td>43</td>\n",
              "      <td>NaN</td>\n",
              "      <td>637</td>\n",
              "      <td>10.1109/MITS.2010.939925</td>\n",
              "      <td>https://www.scopus.com/inward/record.uri?eid=2...</td>\n",
              "      <td>Freiburg University, Germany</td>\n",
              "      <td>Grisetti, G., Freiburg University, Germany; Ku...</td>\n",
              "      <td>NaN</td>\n",
              "      <td>Graph-based; Least-squares errors; Mobile robo...</td>\n",
              "      <td>NaN</td>\n",
              "      <td>NaN</td>\n",
              "      <td>Besl, P.J., McKay, N.D., A method for registra...</td>\n",
              "      <td>NaN</td>\n",
              "      <td>NaN</td>\n",
              "      <td>NaN</td>\n",
              "      <td>NaN</td>\n",
              "      <td>NaN</td>\n",
              "      <td>NaN</td>\n",
              "      <td>English</td>\n",
              "      <td>IEEE Intell. Transp. Syst. Mag.</td>\n",
              "      <td>Article</td>\n",
              "      <td>Final</td>\n",
              "      <td>All Open Access, Green</td>\n",
              "      <td>Scopus</td>\n",
              "      <td>2-s2.0-80051995834</td>\n",
              "      <td>NaN</td>\n",
              "      <td>NaN</td>\n",
              "      <td>NaN</td>\n",
              "      <td>NaN</td>\n",
              "      <td>NaN</td>\n",
              "      <td>NaN</td>\n",
              "      <td>NaN</td>\n",
              "      <td>NaN</td>\n",
              "      <td>NaN</td>\n",
              "    </tr>\n",
              "    <tr>\n",
              "      <th>5</th>\n",
              "      <td>5.0</td>\n",
              "      <td>Rusu R.B., Bradski G., Thibaux R., Hsu J.</td>\n",
              "      <td>15758234800;6602226632;6507166972;36680141300;</td>\n",
              "      <td>Fast 3D recognition and pose using the viewpoi...</td>\n",
              "      <td>2010</td>\n",
              "      <td>IEEE/RSJ 2010 International Conference on Inte...</td>\n",
              "      <td>NaN</td>\n",
              "      <td>NaN</td>\n",
              "      <td>5651280</td>\n",
              "      <td>2155</td>\n",
              "      <td>2162</td>\n",
              "      <td>NaN</td>\n",
              "      <td>612</td>\n",
              "      <td>10.1109/IROS.2010.5651280</td>\n",
              "      <td>https://www.scopus.com/inward/record.uri?eid=2...</td>\n",
              "      <td>Willow Garage, 68 Willow Rd., Menlo Park, CA 9...</td>\n",
              "      <td>Rusu, R.B., Willow Garage, 68 Willow Rd., Menl...</td>\n",
              "      <td>NaN</td>\n",
              "      <td>3D point cloud; 3D recognition; Computational ...</td>\n",
              "      <td>NaN</td>\n",
              "      <td>NaN</td>\n",
              "      <td>Muja, M., Lowe, D.G., Fast approximate nearest...</td>\n",
              "      <td>NaN</td>\n",
              "      <td>23rd IEEE/RSJ 2010 International Conference on...</td>\n",
              "      <td>18 October 2010 through 22 October 2010</td>\n",
              "      <td>Taipei</td>\n",
              "      <td>83389</td>\n",
              "      <td>NaN</td>\n",
              "      <td>English</td>\n",
              "      <td>IEEE/RSJ Int. Conf. Intelligent Rob. Syst., IR...</td>\n",
              "      <td>Conference Paper</td>\n",
              "      <td>Final</td>\n",
              "      <td>NaN</td>\n",
              "      <td>Scopus</td>\n",
              "      <td>2-s2.0-78651518184</td>\n",
              "      <td>NaN</td>\n",
              "      <td>NaN</td>\n",
              "      <td>NaN</td>\n",
              "      <td>NaN</td>\n",
              "      <td>NaN</td>\n",
              "      <td>NaN</td>\n",
              "      <td>NaN</td>\n",
              "      <td>NaN</td>\n",
              "      <td>NaN</td>\n",
              "    </tr>\n",
              "    <tr>\n",
              "      <th>6</th>\n",
              "      <td>6.0</td>\n",
              "      <td>Kummer M.P., Abbott J.J., Kratochvil B.E., Bor...</td>\n",
              "      <td>23008943400;7201623373;24070935500;6603957500;...</td>\n",
              "      <td>Octomag: An electromagnetic system for 5-DOF w...</td>\n",
              "      <td>2010</td>\n",
              "      <td>IEEE Transactions on Robotics</td>\n",
              "      <td>26</td>\n",
              "      <td>6</td>\n",
              "      <td>5595508</td>\n",
              "      <td>1006</td>\n",
              "      <td>1017</td>\n",
              "      <td>NaN</td>\n",
              "      <td>590</td>\n",
              "      <td>10.1109/TRO.2010.2073030</td>\n",
              "      <td>https://www.scopus.com/inward/record.uri?eid=2...</td>\n",
              "      <td>Institute of Robotics and Intelligent Systems,...</td>\n",
              "      <td>Kummer, M.P., Institute of Robotics and Intell...</td>\n",
              "      <td>Magnetic; medical; micromanipulator; microrobo...</td>\n",
              "      <td>Magnetic; medical; Micro robots; Minimally inv...</td>\n",
              "      <td>NaN</td>\n",
              "      <td>NaN</td>\n",
              "      <td>Ergeneman, O., Dogangil, G., Kummer, M.P., Abb...</td>\n",
              "      <td>NaN</td>\n",
              "      <td>NaN</td>\n",
              "      <td>NaN</td>\n",
              "      <td>NaN</td>\n",
              "      <td>NaN</td>\n",
              "      <td>NaN</td>\n",
              "      <td>English</td>\n",
              "      <td>IEEE Trans. Rob.</td>\n",
              "      <td>Article</td>\n",
              "      <td>Final</td>\n",
              "      <td>All Open Access, Green</td>\n",
              "      <td>Scopus</td>\n",
              "      <td>2-s2.0-78650037756</td>\n",
              "      <td>NaN</td>\n",
              "      <td>NaN</td>\n",
              "      <td>NaN</td>\n",
              "      <td>NaN</td>\n",
              "      <td>NaN</td>\n",
              "      <td>NaN</td>\n",
              "      <td>NaN</td>\n",
              "      <td>NaN</td>\n",
              "      <td>NaN</td>\n",
              "    </tr>\n",
              "    <tr>\n",
              "      <th>7</th>\n",
              "      <td>7.0</td>\n",
              "      <td>Michael N., Mellinger D., Lindsey Q., Kumar V.</td>\n",
              "      <td>15726076600;36463909600;35759207800;57202530488;</td>\n",
              "      <td>The GRASP multiple micro-UAV testbed</td>\n",
              "      <td>2010</td>\n",
              "      <td>IEEE Robotics and Automation Magazine</td>\n",
              "      <td>17</td>\n",
              "      <td>3</td>\n",
              "      <td>5569026</td>\n",
              "      <td>56</td>\n",
              "      <td>65</td>\n",
              "      <td>NaN</td>\n",
              "      <td>565</td>\n",
              "      <td>10.1109/MRA.2010.937855</td>\n",
              "      <td>https://www.scopus.com/inward/record.uri?eid=2...</td>\n",
              "      <td>Department of Mechanical Engineering and Appli...</td>\n",
              "      <td>Michael, N., Department of Mechanical Engineer...</td>\n",
              "      <td>NaN</td>\n",
              "      <td>Control algorithms; Experimental evaluation; G...</td>\n",
              "      <td>NaN</td>\n",
              "      <td>NaN</td>\n",
              "      <td>Pines, D., Bohorquez, F., Challenges facing fu...</td>\n",
              "      <td>NaN</td>\n",
              "      <td>NaN</td>\n",
              "      <td>NaN</td>\n",
              "      <td>NaN</td>\n",
              "      <td>NaN</td>\n",
              "      <td>NaN</td>\n",
              "      <td>English</td>\n",
              "      <td>IEEE Rob Autom Mag</td>\n",
              "      <td>Article</td>\n",
              "      <td>Final</td>\n",
              "      <td>NaN</td>\n",
              "      <td>Scopus</td>\n",
              "      <td>2-s2.0-77956601974</td>\n",
              "      <td>NaN</td>\n",
              "      <td>NaN</td>\n",
              "      <td>NaN</td>\n",
              "      <td>NaN</td>\n",
              "      <td>NaN</td>\n",
              "      <td>NaN</td>\n",
              "      <td>NaN</td>\n",
              "      <td>NaN</td>\n",
              "      <td>NaN</td>\n",
              "    </tr>\n",
              "    <tr>\n",
              "      <th>8</th>\n",
              "      <td>8.0</td>\n",
              "      <td>Goerzen C., Kong Z., Mettler B.</td>\n",
              "      <td>35148016300;35791919800;15751291500;</td>\n",
              "      <td>A survey of motion planning algorithms from th...</td>\n",
              "      <td>2010</td>\n",
              "      <td>Journal of Intelligent and Robotic Systems: Th...</td>\n",
              "      <td>57</td>\n",
              "      <td>2021-01-04 00:00:00</td>\n",
              "      <td>NaN</td>\n",
              "      <td>65</td>\n",
              "      <td>100</td>\n",
              "      <td>NaN</td>\n",
              "      <td>478</td>\n",
              "      <td>10.1007/s10846-009-9383-1</td>\n",
              "      <td>https://www.scopus.com/inward/record.uri?eid=2...</td>\n",
              "      <td>NASA Ames Research Center, San Jose State Univ...</td>\n",
              "      <td>Goerzen, C., NASA Ames Research Center, San Jo...</td>\n",
              "      <td>Algorithm; Autonomous; Complexity; Guidance; H...</td>\n",
              "      <td>Autonomous; Autonomous UAV; Autonomous Vehicle...</td>\n",
              "      <td>NaN</td>\n",
              "      <td>NaN</td>\n",
              "      <td>Agarwal, P.K., Wang, H., Approximation algorit...</td>\n",
              "      <td>NaN</td>\n",
              "      <td>NaN</td>\n",
              "      <td>NaN</td>\n",
              "      <td>NaN</td>\n",
              "      <td>NaN</td>\n",
              "      <td>NaN</td>\n",
              "      <td>English</td>\n",
              "      <td>J Intell Rob Syst Theor Appl</td>\n",
              "      <td>Article</td>\n",
              "      <td>Final</td>\n",
              "      <td>NaN</td>\n",
              "      <td>Scopus</td>\n",
              "      <td>2-s2.0-72449135237</td>\n",
              "      <td>NaN</td>\n",
              "      <td>NaN</td>\n",
              "      <td>NaN</td>\n",
              "      <td>NaN</td>\n",
              "      <td>NaN</td>\n",
              "      <td>NaN</td>\n",
              "      <td>NaN</td>\n",
              "      <td>NaN</td>\n",
              "      <td>NaN</td>\n",
              "    </tr>\n",
              "    <tr>\n",
              "      <th>9</th>\n",
              "      <td>9.0</td>\n",
              "      <td>Dupont P.E., Lock J., Itkowitz B., Butler E.</td>\n",
              "      <td>7102717038;35105413600;35793316500;35104645300;</td>\n",
              "      <td>Design and control of concentric-tube robots</td>\n",
              "      <td>2010</td>\n",
              "      <td>IEEE Transactions on Robotics</td>\n",
              "      <td>26</td>\n",
              "      <td>2</td>\n",
              "      <td>5371822</td>\n",
              "      <td>209</td>\n",
              "      <td>225</td>\n",
              "      <td>NaN</td>\n",
              "      <td>463</td>\n",
              "      <td>10.1109/TRO.2009.2035740</td>\n",
              "      <td>https://www.scopus.com/inward/record.uri?eid=2...</td>\n",
              "      <td>Department of Cardiovascular Surgery, Children...</td>\n",
              "      <td>Dupont, P.E., Department of Cardiovascular Sur...</td>\n",
              "      <td>Continuum robots; Flexible arms; Kinematics; M...</td>\n",
              "      <td>Continuum robot; Flexible arm; Flexible arms; ...</td>\n",
              "      <td>NaN</td>\n",
              "      <td>NaN</td>\n",
              "      <td>Madhanir, A., Niemeyer, G., Salisbury Jr., J.K...</td>\n",
              "      <td>NaN</td>\n",
              "      <td>NaN</td>\n",
              "      <td>NaN</td>\n",
              "      <td>NaN</td>\n",
              "      <td>NaN</td>\n",
              "      <td>NaN</td>\n",
              "      <td>English</td>\n",
              "      <td>IEEE Trans. Rob.</td>\n",
              "      <td>Article</td>\n",
              "      <td>Final</td>\n",
              "      <td>All Open Access, Green</td>\n",
              "      <td>Scopus</td>\n",
              "      <td>2-s2.0-77950858235</td>\n",
              "      <td>NaN</td>\n",
              "      <td>NaN</td>\n",
              "      <td>NaN</td>\n",
              "      <td>NaN</td>\n",
              "      <td>NaN</td>\n",
              "      <td>NaN</td>\n",
              "      <td>NaN</td>\n",
              "      <td>NaN</td>\n",
              "      <td>NaN</td>\n",
              "    </tr>\n",
              "  </tbody>\n",
              "</table>\n",
              "</div>"
            ],
            "text/plain": [
              "   Unnamed: 0  ... Unnamed: 53\n",
              "0         0.0  ...         NaN\n",
              "1         1.0  ...         NaN\n",
              "2         2.0  ...         NaN\n",
              "3         3.0  ...         NaN\n",
              "4         4.0  ...         NaN\n",
              "5         5.0  ...         NaN\n",
              "6         6.0  ...         NaN\n",
              "7         7.0  ...         NaN\n",
              "8         8.0  ...         NaN\n",
              "9         9.0  ...         NaN\n",
              "\n",
              "[10 rows x 44 columns]"
            ]
          },
          "metadata": {},
          "execution_count": 18
        }
      ]
    },
    {
      "cell_type": "code",
      "metadata": {
        "colab": {
          "base_uri": "https://localhost:8080/"
        },
        "id": "v89hFmPZhLe0",
        "outputId": "37344595-e9ab-4a5d-a044-0ea54ab671a3"
      },
      "source": [
        "data.info()"
      ],
      "execution_count": 13,
      "outputs": [
        {
          "output_type": "stream",
          "name": "stdout",
          "text": [
            "<class 'pandas.core.frame.DataFrame'>\n",
            "Int64Index: 21707 entries, 0 to 1924\n",
            "Data columns (total 44 columns):\n",
            " #   Column                         Non-Null Count  Dtype  \n",
            "---  ------                         --------------  -----  \n",
            " 0   Unnamed: 0                     1992 non-null   float64\n",
            " 1   Authors                        21705 non-null  object \n",
            " 2   Author(s) ID                   21706 non-null  object \n",
            " 3   Title                          21704 non-null  object \n",
            " 4   Year                           21703 non-null  object \n",
            " 5   Source title                   21700 non-null  object \n",
            " 6   Volume                         17053 non-null  object \n",
            " 7   Issue                          12041 non-null  object \n",
            " 8   Art. No.                       11397 non-null  object \n",
            " 9   Page start                     18825 non-null  object \n",
            " 10  Page end                       18825 non-null  object \n",
            " 11  Page count                     44 non-null     object \n",
            " 12  Cited by                       21703 non-null  object \n",
            " 13  DOI                            21273 non-null  object \n",
            " 14  Link                           21703 non-null  object \n",
            " 15  Affiliations                   21632 non-null  object \n",
            " 16  Authors with affiliations      21703 non-null  object \n",
            " 17  Author Keywords                15881 non-null  object \n",
            " 18  Index Keywords                 21114 non-null  object \n",
            " 19  Funding Text 5                 0 non-null      float64\n",
            " 20  Funding Text 6                 0 non-null      float64\n",
            " 21  References                     15038 non-null  object \n",
            " 22  Publisher                      9462 non-null   object \n",
            " 23  Conference name                8792 non-null   object \n",
            " 24  Conference date                6030 non-null   object \n",
            " 25  Conference location            5598 non-null   object \n",
            " 26  Conference code                10090 non-null  object \n",
            " 27  PubMed ID                      10981 non-null  object \n",
            " 28  Language of Original Document  18659 non-null  object \n",
            " 29  Abbreviated Source Title       20619 non-null  object \n",
            " 30  Document Type                  20978 non-null  object \n",
            " 31  Publication Stage              17622 non-null  object \n",
            " 32  Open Access                    14244 non-null  object \n",
            " 33  Source                         17859 non-null  object \n",
            " 34  EID                            13259 non-null  object \n",
            " 35  Unnamed: 46                    1759 non-null   object \n",
            " 36  Unnamed: 45                    1983 non-null   object \n",
            " 37  Unnamed: 47                    314 non-null    object \n",
            " 38  Unnamed: 48                    160 non-null    object \n",
            " 39  Unnamed: 49                    1 non-null      object \n",
            " 40  Unnamed: 50                    1 non-null      object \n",
            " 41  Unnamed: 51                    0 non-null      float64\n",
            " 42  Unnamed: 52                    1 non-null      object \n",
            " 43  Unnamed: 53                    1 non-null      object \n",
            "dtypes: float64(4), object(40)\n",
            "memory usage: 7.5+ MB\n"
          ]
        }
      ]
    },
    {
      "cell_type": "code",
      "metadata": {
        "id": "-ga5YWE-GkGg"
      },
      "source": [
        "DC =pd.read_csv('https://raw.githubusercontent.com/abaskon/LiteratureReviewRobotics/main/Total_pub.csv')"
      ],
      "execution_count": 21,
      "outputs": []
    },
    {
      "cell_type": "code",
      "metadata": {
        "id": "5y5HimXuIlCG"
      },
      "source": [
        "import matplotlib.pyplot as plt\n",
        "\n",
        "def plot_df(df, x, y, title, xlabel, ylabel, dpi=100):\n",
        "    plt.figure(figsize=(30,5), dpi=dpi)\n",
        "    plt.plot(x, y, color='tab:red')\n",
        "    plt.gca().set(title=title, xlabel=xlabel, ylabel=ylabel)\n",
        "    plt.show()\n"
      ],
      "execution_count": 22,
      "outputs": []
    },
    {
      "cell_type": "code",
      "metadata": {
        "id": "tIrrHJ5izkXQ",
        "colab": {
          "base_uri": "https://localhost:8080/",
          "height": 296
        },
        "outputId": "ad33a5da-ffd5-447d-bf43-8b5ab9c8b0a0"
      },
      "source": [
        "plot_df(DC, x= DC.Year, y=(DC.Documents), title='Documents vs Year', xlabel='Year', ylabel='Documents') "
      ],
      "execution_count": 26,
      "outputs": [
        {
          "output_type": "display_data",
          "data": {
            "image/png": "[encoded data removed]",
            "text/plain": [
              "<Figure size 3000x500 with 1 Axes>"
            ]
          },
          "metadata": {
            "needs_background": "light"
          }
        }
      ]
    },
    {
      "cell_type": "code",
      "metadata": {
        "id": "PbDW5S-R5fzz"
      },
      "source": [
        "### Keras and Tensorflow >2.0"
      ],
      "execution_count": null,
      "outputs": []
    },
    {
      "cell_type": "code",
      "metadata": {
        "id": "07KfCrP45f0N"
      },
      "source": [
        "### LSTM are sensitive to the scale of the data. so we apply MinMax scaler "
      ],
      "execution_count": null,
      "outputs": []
    },
    {
      "cell_type": "code",
      "metadata": {
        "id": "gIUI-Ajv5f0Q"
      },
      "source": [
        "from sklearn.preprocessing import MinMaxScaler\n",
        "scaler=MinMaxScaler(feature_range=(0,1))\n",
        "df1=scaler.fit_transform(np.array(DC['Documents']).reshape(-1,1))\n"
      ],
      "execution_count": 27,
      "outputs": []
    },
    {
      "cell_type": "code",
      "metadata": {
        "id": "Qp3vD6tYaFnN",
        "colab": {
          "base_uri": "https://localhost:8080/"
        },
        "outputId": "982a2c4e-b872-428d-a43b-e5c26398b024"
      },
      "source": [
        "df1.shape"
      ],
      "execution_count": 28,
      "outputs": [
        {
          "output_type": "execute_result",
          "data": {
            "text/plain": [
              "(28, 1)"
            ]
          },
          "metadata": {},
          "execution_count": 28
        }
      ]
    },
    {
      "cell_type": "code",
      "metadata": {
        "id": "hIE0sW3r5f0R",
        "colab": {
          "base_uri": "https://localhost:8080/"
        },
        "outputId": "65542113-425a-41b7-dbe6-3e26f77a7a67"
      },
      "source": [
        "print(df1)"
      ],
      "execution_count": 29,
      "outputs": [
        {
          "output_type": "stream",
          "name": "stdout",
          "text": [
            "[[0.        ]\n",
            " [0.00377358]\n",
            " [0.01073221]\n",
            " [0.0162368 ]\n",
            " [0.01284404]\n",
            " [0.01983729]\n",
            " [0.01644452]\n",
            " [0.02163753]\n",
            " [0.03929375]\n",
            " [0.07187121]\n",
            " [0.10098667]\n",
            " [0.16392591]\n",
            " [0.19217587]\n",
            " [0.25944262]\n",
            " [0.27249437]\n",
            " [0.42239917]\n",
            " [0.44770642]\n",
            " [0.45933876]\n",
            " [0.44787952]\n",
            " [0.48530379]\n",
            " [0.5352259 ]\n",
            " [0.47675264]\n",
            " [0.52324736]\n",
            " [0.5568288 ]\n",
            " [0.64251342]\n",
            " [0.77451965]\n",
            " [0.91850441]\n",
            " [1.        ]]\n"
          ]
        }
      ]
    },
    {
      "cell_type": "code",
      "metadata": {
        "id": "Ooh6d4oC5f0S"
      },
      "source": [
        "##splitting dataset into train and test split\n",
        "training_size=int(len(df1)*0.65)\n",
        "test_size=len(df1)-training_size\n",
        "train_data,test_data=df1[0:training_size,:],df1[training_size:len(df1),:1]"
      ],
      "execution_count": 30,
      "outputs": []
    },
    {
      "cell_type": "code",
      "metadata": {
        "id": "Nr5L0gCG5f0T",
        "colab": {
          "base_uri": "https://localhost:8080/"
        },
        "outputId": "e43ab539-1425-4cf0-8b5b-d529fe232327"
      },
      "source": [
        "training_size,test_size"
      ],
      "execution_count": 31,
      "outputs": [
        {
          "output_type": "execute_result",
          "data": {
            "text/plain": [
              "(18, 10)"
            ]
          },
          "metadata": {},
          "execution_count": 31
        }
      ]
    },
    {
      "cell_type": "code",
      "metadata": {
        "id": "PDX3J4wN5f0U",
        "colab": {
          "base_uri": "https://localhost:8080/"
        },
        "outputId": "8b58569b-bbea-4313-f8c1-7d7cb2ae77fc"
      },
      "source": [
        "train_data"
      ],
      "execution_count": 32,
      "outputs": [
        {
          "output_type": "execute_result",
          "data": {
            "text/plain": [
              "array([[0.        ],\n",
              "       [0.00377358],\n",
              "       [0.01073221],\n",
              "       [0.0162368 ],\n",
              "       [0.01284404],\n",
              "       [0.01983729],\n",
              "       [0.01644452],\n",
              "       [0.02163753],\n",
              "       [0.03929375],\n",
              "       [0.07187121],\n",
              "       [0.10098667],\n",
              "       [0.16392591],\n",
              "       [0.19217587],\n",
              "       [0.25944262],\n",
              "       [0.27249437],\n",
              "       [0.42239917],\n",
              "       [0.44770642],\n",
              "       [0.45933876]])"
            ]
          },
          "metadata": {},
          "execution_count": 32
        }
      ]
    },
    {
      "cell_type": "code",
      "metadata": {
        "id": "dTrNRa1T5f0V"
      },
      "source": [
        "import numpy\n",
        "# convert an array of values into a dataset matrix\n",
        "def create_dataset(dataset, time_step=1):\n",
        "\tdataX, dataY = [], []\n",
        "\tfor i in range(len(dataset)-time_step-1):\n",
        "\t\ta = dataset[i:(i+time_step), 0]  \n",
        "\t\tdataX.append(a)\n",
        "\t\tdataY.append(dataset[i + time_step, 0])\n",
        "\treturn numpy.array(dataX), numpy.array(dataY)"
      ],
      "execution_count": 33,
      "outputs": []
    },
    {
      "cell_type": "code",
      "metadata": {
        "id": "tq1oX_mm5f0W"
      },
      "source": [
        "# reshape into X=t,t+1,t+2,t+3 and Y=t+4\n",
        "time_step = 4\n",
        "X_train, y_train = create_dataset(train_data, time_step)\n",
        "X_test, ytest = create_dataset(test_data, time_step)"
      ],
      "execution_count": 47,
      "outputs": []
    },
    {
      "cell_type": "code",
      "metadata": {
        "id": "s5Ynt2wi5f0X",
        "colab": {
          "base_uri": "https://localhost:8080/"
        },
        "outputId": "a3939844-ec70-466a-f600-59c13cfe4f38"
      },
      "source": [
        "print(X_train.shape), print(y_train.shape)"
      ],
      "execution_count": 48,
      "outputs": [
        {
          "output_type": "stream",
          "name": "stdout",
          "text": [
            "(13, 4)\n",
            "(13,)\n"
          ]
        },
        {
          "output_type": "execute_result",
          "data": {
            "text/plain": [
              "(None, None)"
            ]
          },
          "metadata": {},
          "execution_count": 48
        }
      ]
    },
    {
      "cell_type": "code",
      "metadata": {
        "id": "J2pmjFMl5f0Z",
        "colab": {
          "base_uri": "https://localhost:8080/"
        },
        "outputId": "73f5f362-af2c-4a83-c788-58b6273f1e73"
      },
      "source": [
        "print(X_test.shape), print(ytest.shape)"
      ],
      "execution_count": 49,
      "outputs": [
        {
          "output_type": "stream",
          "name": "stdout",
          "text": [
            "(5, 4)\n",
            "(5,)\n"
          ]
        },
        {
          "output_type": "execute_result",
          "data": {
            "text/plain": [
              "(None, None)"
            ]
          },
          "metadata": {},
          "execution_count": 49
        }
      ]
    },
    {
      "cell_type": "code",
      "metadata": {
        "id": "xw2jvZ4D5f0a"
      },
      "source": [
        "# reshape input to be [samples, time steps, features] which is required for LSTM\n",
        "X_train =X_train.reshape(X_train.shape[0],X_train.shape[1] , 1)\n",
        "X_test = X_test.reshape(X_test.shape[0],X_test.shape[1] , 1)"
      ],
      "execution_count": 50,
      "outputs": []
    },
    {
      "cell_type": "code",
      "metadata": {
        "id": "oFIqi1Ne5f0a"
      },
      "source": [
        "# Create the Stacked LSTM model\n",
        "from tensorflow.keras.models import Sequential\n",
        "from tensorflow.keras.layers import Dense\n",
        "from tensorflow.keras.layers import LSTM"
      ],
      "execution_count": 39,
      "outputs": []
    },
    {
      "cell_type": "code",
      "metadata": {
        "id": "W-BM41-D5f0b"
      },
      "source": [
        "model=Sequential()\n",
        "model.add(LSTM(50,return_sequences=True,input_shape=(4,1)))\n",
        "model.add(LSTM(50,return_sequences=True))\n",
        "model.add(LSTM(50))\n",
        "model.add(Dense(1))\n",
        "model.compile(loss='mean_squared_error',optimizer='adam')\n"
      ],
      "execution_count": 51,
      "outputs": []
    },
    {
      "cell_type": "code",
      "metadata": {
        "id": "lX5iqaQe5f0c",
        "colab": {
          "base_uri": "https://localhost:8080/"
        },
        "outputId": "a0cbf422-e422-4dca-e1b1-41f060c734e0"
      },
      "source": [
        "model.summary()"
      ],
      "execution_count": 52,
      "outputs": [
        {
          "output_type": "stream",
          "name": "stdout",
          "text": [
            "Model: \"sequential_1\"\n",
            "_________________________________________________________________\n",
            " Layer (type)                Output Shape              Param #   \n",
            "=================================================================\n",
            " lstm_3 (LSTM)               (None, 4, 50)             10400     \n",
            "                                                                 \n",
            " lstm_4 (LSTM)               (None, 4, 50)             20200     \n",
            "                                                                 \n",
            " lstm_5 (LSTM)               (None, 50)                20200     \n",
            "                                                                 \n",
            " dense_1 (Dense)             (None, 1)                 51        \n",
            "                                                                 \n",
            "=================================================================\n",
            "Total params: 50,851\n",
            "Trainable params: 50,851\n",
            "Non-trainable params: 0\n",
            "_________________________________________________________________\n"
          ]
        }
      ]
    },
    {
      "cell_type": "code",
      "metadata": {
        "id": "cZpxAPPr5f0d",
        "colab": {
          "base_uri": "https://localhost:8080/"
        },
        "outputId": "4e4e9a3f-34a7-4c9d-8dd8-374d443a6d75"
      },
      "source": [
        "model.fit(X_train,y_train,validation_data=(X_test,ytest),epochs=100,batch_size=64,verbose=1)"
      ],
      "execution_count": 53,
      "outputs": [
        {
          "output_type": "stream",
          "name": "stdout",
          "text": [
            "Epoch 1/100\n",
            "1/1 [==============================] - 6s 6s/step - loss: 0.0457 - val_loss: 0.4590\n",
            "Epoch 2/100\n",
            "1/1 [==============================] - 0s 37ms/step - loss: 0.0426 - val_loss: 0.4401\n",
            "Epoch 3/100\n",
            "1/1 [==============================] - 0s 38ms/step - loss: 0.0395 - val_loss: 0.4205\n",
            "Epoch 4/100\n",
            "1/1 [==============================] - 0s 32ms/step - loss: 0.0365 - val_loss: 0.4000\n",
            "Epoch 5/100\n",
            "1/1 [==============================] - 0s 30ms/step - loss: 0.0335 - val_loss: 0.3784\n",
            "Epoch 6/100\n",
            "1/1 [==============================] - 0s 32ms/step - loss: 0.0306 - val_loss: 0.3555\n",
            "Epoch 7/100\n",
            "1/1 [==============================] - 0s 35ms/step - loss: 0.0278 - val_loss: 0.3313\n",
            "Epoch 8/100\n",
            "1/1 [==============================] - 0s 38ms/step - loss: 0.0251 - val_loss: 0.3058\n",
            "Epoch 9/100\n",
            "1/1 [==============================] - 0s 47ms/step - loss: 0.0227 - val_loss: 0.2790\n",
            "Epoch 10/100\n",
            "1/1 [==============================] - 0s 36ms/step - loss: 0.0206 - val_loss: 0.2513\n",
            "Epoch 11/100\n",
            "1/1 [==============================] - 0s 32ms/step - loss: 0.0190 - val_loss: 0.2232\n",
            "Epoch 12/100\n",
            "1/1 [==============================] - 0s 40ms/step - loss: 0.0180 - val_loss: 0.1956\n",
            "Epoch 13/100\n",
            "1/1 [==============================] - 0s 33ms/step - loss: 0.0178 - val_loss: 0.1702\n",
            "Epoch 14/100\n",
            "1/1 [==============================] - 0s 35ms/step - loss: 0.0182 - val_loss: 0.1493\n",
            "Epoch 15/100\n",
            "1/1 [==============================] - 0s 33ms/step - loss: 0.0190 - val_loss: 0.1343\n",
            "Epoch 16/100\n",
            "1/1 [==============================] - 0s 37ms/step - loss: 0.0196 - val_loss: 0.1254\n",
            "Epoch 17/100\n",
            "1/1 [==============================] - 0s 36ms/step - loss: 0.0198 - val_loss: 0.1215\n",
            "Epoch 18/100\n",
            "1/1 [==============================] - 0s 38ms/step - loss: 0.0194 - val_loss: 0.1215\n",
            "Epoch 19/100\n",
            "1/1 [==============================] - 0s 36ms/step - loss: 0.0187 - val_loss: 0.1242\n",
            "Epoch 20/100\n",
            "1/1 [==============================] - 0s 31ms/step - loss: 0.0177 - val_loss: 0.1285\n",
            "Epoch 21/100\n",
            "1/1 [==============================] - 0s 38ms/step - loss: 0.0168 - val_loss: 0.1334\n",
            "Epoch 22/100\n",
            "1/1 [==============================] - 0s 36ms/step - loss: 0.0160 - val_loss: 0.1381\n",
            "Epoch 23/100\n",
            "1/1 [==============================] - 0s 37ms/step - loss: 0.0154 - val_loss: 0.1419\n",
            "Epoch 24/100\n",
            "1/1 [==============================] - 0s 35ms/step - loss: 0.0149 - val_loss: 0.1440\n",
            "Epoch 25/100\n",
            "1/1 [==============================] - 0s 35ms/step - loss: 0.0146 - val_loss: 0.1441\n",
            "Epoch 26/100\n",
            "1/1 [==============================] - 0s 37ms/step - loss: 0.0144 - val_loss: 0.1418\n",
            "Epoch 27/100\n",
            "1/1 [==============================] - 0s 38ms/step - loss: 0.0141 - val_loss: 0.1370\n",
            "Epoch 28/100\n",
            "1/1 [==============================] - 0s 37ms/step - loss: 0.0138 - val_loss: 0.1296\n",
            "Epoch 29/100\n",
            "1/1 [==============================] - 0s 34ms/step - loss: 0.0135 - val_loss: 0.1198\n",
            "Epoch 30/100\n",
            "1/1 [==============================] - 0s 41ms/step - loss: 0.0130 - val_loss: 0.1076\n",
            "Epoch 31/100\n",
            "1/1 [==============================] - 0s 38ms/step - loss: 0.0124 - val_loss: 0.0935\n",
            "Epoch 32/100\n",
            "1/1 [==============================] - 0s 40ms/step - loss: 0.0117 - val_loss: 0.0780\n",
            "Epoch 33/100\n",
            "1/1 [==============================] - 0s 43ms/step - loss: 0.0109 - val_loss: 0.0619\n",
            "Epoch 34/100\n",
            "1/1 [==============================] - 0s 37ms/step - loss: 0.0101 - val_loss: 0.0461\n",
            "Epoch 35/100\n",
            "1/1 [==============================] - 0s 32ms/step - loss: 0.0092 - val_loss: 0.0320\n",
            "Epoch 36/100\n",
            "1/1 [==============================] - 0s 38ms/step - loss: 0.0084 - val_loss: 0.0209\n",
            "Epoch 37/100\n",
            "1/1 [==============================] - 0s 38ms/step - loss: 0.0076 - val_loss: 0.0140\n",
            "Epoch 38/100\n",
            "1/1 [==============================] - 0s 35ms/step - loss: 0.0069 - val_loss: 0.0125\n",
            "Epoch 39/100\n",
            "1/1 [==============================] - 0s 32ms/step - loss: 0.0062 - val_loss: 0.0168\n",
            "Epoch 40/100\n",
            "1/1 [==============================] - 0s 37ms/step - loss: 0.0055 - val_loss: 0.0269\n",
            "Epoch 41/100\n",
            "1/1 [==============================] - 0s 36ms/step - loss: 0.0047 - val_loss: 0.0426\n",
            "Epoch 42/100\n",
            "1/1 [==============================] - 0s 37ms/step - loss: 0.0039 - val_loss: 0.0638\n",
            "Epoch 43/100\n",
            "1/1 [==============================] - 0s 41ms/step - loss: 0.0030 - val_loss: 0.0911\n",
            "Epoch 44/100\n",
            "1/1 [==============================] - 0s 33ms/step - loss: 0.0024 - val_loss: 0.1261\n",
            "Epoch 45/100\n",
            "1/1 [==============================] - 0s 39ms/step - loss: 0.0019 - val_loss: 0.1716\n",
            "Epoch 46/100\n",
            "1/1 [==============================] - 0s 35ms/step - loss: 0.0017 - val_loss: 0.2320\n",
            "Epoch 47/100\n",
            "1/1 [==============================] - 0s 36ms/step - loss: 0.0016 - val_loss: 0.3112\n",
            "Epoch 48/100\n",
            "1/1 [==============================] - 0s 38ms/step - loss: 0.0016 - val_loss: 0.4098\n",
            "Epoch 49/100\n",
            "1/1 [==============================] - 0s 37ms/step - loss: 0.0017 - val_loss: 0.5203\n",
            "Epoch 50/100\n",
            "1/1 [==============================] - 0s 47ms/step - loss: 0.0019 - val_loss: 0.6240\n",
            "Epoch 51/100\n",
            "1/1 [==============================] - 0s 39ms/step - loss: 0.0022 - val_loss: 0.6953\n",
            "Epoch 52/100\n",
            "1/1 [==============================] - 0s 36ms/step - loss: 0.0025 - val_loss: 0.7161\n",
            "Epoch 53/100\n",
            "1/1 [==============================] - 0s 35ms/step - loss: 0.0026 - val_loss: 0.6878\n",
            "Epoch 54/100\n",
            "1/1 [==============================] - 0s 38ms/step - loss: 0.0025 - val_loss: 0.6270\n",
            "Epoch 55/100\n",
            "1/1 [==============================] - 0s 35ms/step - loss: 0.0023 - val_loss: 0.5537\n",
            "Epoch 56/100\n",
            "1/1 [==============================] - 0s 39ms/step - loss: 0.0021 - val_loss: 0.4827\n",
            "Epoch 57/100\n",
            "1/1 [==============================] - 0s 36ms/step - loss: 0.0020 - val_loss: 0.4211\n",
            "Epoch 58/100\n",
            "1/1 [==============================] - 0s 43ms/step - loss: 0.0018 - val_loss: 0.3704\n",
            "Epoch 59/100\n",
            "1/1 [==============================] - 0s 32ms/step - loss: 0.0016 - val_loss: 0.3287\n",
            "Epoch 60/100\n",
            "1/1 [==============================] - 0s 38ms/step - loss: 0.0015 - val_loss: 0.2937\n",
            "Epoch 61/100\n",
            "1/1 [==============================] - 0s 35ms/step - loss: 0.0014 - val_loss: 0.2630\n",
            "Epoch 62/100\n",
            "1/1 [==============================] - 0s 35ms/step - loss: 0.0014 - val_loss: 0.2351\n",
            "Epoch 63/100\n",
            "1/1 [==============================] - 0s 44ms/step - loss: 0.0014 - val_loss: 0.2095\n",
            "Epoch 64/100\n",
            "1/1 [==============================] - 0s 34ms/step - loss: 0.0014 - val_loss: 0.1868\n",
            "Epoch 65/100\n",
            "1/1 [==============================] - 0s 41ms/step - loss: 0.0015 - val_loss: 0.1677\n",
            "Epoch 66/100\n",
            "1/1 [==============================] - 0s 38ms/step - loss: 0.0015 - val_loss: 0.1527\n",
            "Epoch 67/100\n",
            "1/1 [==============================] - 0s 33ms/step - loss: 0.0015 - val_loss: 0.1424\n",
            "Epoch 68/100\n",
            "1/1 [==============================] - 0s 36ms/step - loss: 0.0016 - val_loss: 0.1367\n",
            "Epoch 69/100\n",
            "1/1 [==============================] - 0s 49ms/step - loss: 0.0016 - val_loss: 0.1354\n",
            "Epoch 70/100\n",
            "1/1 [==============================] - 0s 40ms/step - loss: 0.0016 - val_loss: 0.1381\n",
            "Epoch 71/100\n",
            "1/1 [==============================] - 0s 33ms/step - loss: 0.0015 - val_loss: 0.1444\n",
            "Epoch 72/100\n",
            "1/1 [==============================] - 0s 34ms/step - loss: 0.0015 - val_loss: 0.1533\n",
            "Epoch 73/100\n",
            "1/1 [==============================] - 0s 34ms/step - loss: 0.0015 - val_loss: 0.1640\n",
            "Epoch 74/100\n",
            "1/1 [==============================] - 0s 36ms/step - loss: 0.0014 - val_loss: 0.1754\n",
            "Epoch 75/100\n",
            "1/1 [==============================] - 0s 34ms/step - loss: 0.0014 - val_loss: 0.1866\n",
            "Epoch 76/100\n",
            "1/1 [==============================] - 0s 39ms/step - loss: 0.0014 - val_loss: 0.1967\n",
            "Epoch 77/100\n",
            "1/1 [==============================] - 0s 38ms/step - loss: 0.0013 - val_loss: 0.2057\n",
            "Epoch 78/100\n",
            "1/1 [==============================] - 0s 37ms/step - loss: 0.0013 - val_loss: 0.2136\n",
            "Epoch 79/100\n",
            "1/1 [==============================] - 0s 35ms/step - loss: 0.0013 - val_loss: 0.2209\n",
            "Epoch 80/100\n",
            "1/1 [==============================] - 0s 37ms/step - loss: 0.0013 - val_loss: 0.2279\n",
            "Epoch 81/100\n",
            "1/1 [==============================] - 0s 42ms/step - loss: 0.0013 - val_loss: 0.2347\n",
            "Epoch 82/100\n",
            "1/1 [==============================] - 0s 40ms/step - loss: 0.0013 - val_loss: 0.2410\n",
            "Epoch 83/100\n",
            "1/1 [==============================] - 0s 33ms/step - loss: 0.0013 - val_loss: 0.2460\n",
            "Epoch 84/100\n",
            "1/1 [==============================] - 0s 32ms/step - loss: 0.0013 - val_loss: 0.2487\n",
            "Epoch 85/100\n",
            "1/1 [==============================] - 0s 34ms/step - loss: 0.0013 - val_loss: 0.2483\n",
            "Epoch 86/100\n",
            "1/1 [==============================] - 0s 37ms/step - loss: 0.0013 - val_loss: 0.2444\n",
            "Epoch 87/100\n",
            "1/1 [==============================] - 0s 36ms/step - loss: 0.0013 - val_loss: 0.2375\n",
            "Epoch 88/100\n",
            "1/1 [==============================] - 0s 36ms/step - loss: 0.0013 - val_loss: 0.2283\n",
            "Epoch 89/100\n",
            "1/1 [==============================] - 0s 40ms/step - loss: 0.0013 - val_loss: 0.2181\n",
            "Epoch 90/100\n",
            "1/1 [==============================] - 0s 45ms/step - loss: 0.0013 - val_loss: 0.2078\n",
            "Epoch 91/100\n",
            "1/1 [==============================] - 0s 39ms/step - loss: 0.0013 - val_loss: 0.1984\n",
            "Epoch 92/100\n",
            "1/1 [==============================] - 0s 35ms/step - loss: 0.0013 - val_loss: 0.1901\n",
            "Epoch 93/100\n",
            "1/1 [==============================] - 0s 37ms/step - loss: 0.0013 - val_loss: 0.1830\n",
            "Epoch 94/100\n",
            "1/1 [==============================] - 0s 36ms/step - loss: 0.0013 - val_loss: 0.1770\n",
            "Epoch 95/100\n",
            "1/1 [==============================] - 0s 37ms/step - loss: 0.0013 - val_loss: 0.1717\n",
            "Epoch 96/100\n",
            "1/1 [==============================] - 0s 32ms/step - loss: 0.0013 - val_loss: 0.1668\n",
            "Epoch 97/100\n",
            "1/1 [==============================] - 0s 41ms/step - loss: 0.0013 - val_loss: 0.1623\n",
            "Epoch 98/100\n",
            "1/1 [==============================] - 0s 39ms/step - loss: 0.0013 - val_loss: 0.1581\n",
            "Epoch 99/100\n",
            "1/1 [==============================] - 0s 42ms/step - loss: 0.0013 - val_loss: 0.1546\n",
            "Epoch 100/100\n",
            "1/1 [==============================] - 0s 37ms/step - loss: 0.0012 - val_loss: 0.1518\n"
          ]
        },
        {
          "output_type": "execute_result",
          "data": {
            "text/plain": [
              "<keras.callbacks.History at 0x7fc657899d50>"
            ]
          },
          "metadata": {},
          "execution_count": 53
        }
      ]
    },
    {
      "cell_type": "code",
      "metadata": {
        "id": "OfL6NFCe5f0e"
      },
      "source": [
        "import tensorflow as tf"
      ],
      "execution_count": 54,
      "outputs": []
    },
    {
      "cell_type": "code",
      "metadata": {
        "id": "prjd9OOb5f0e",
        "colab": {
          "base_uri": "https://localhost:8080/",
          "height": 35
        },
        "outputId": "63534979-338c-46aa-ef92-01270405376b"
      },
      "source": [
        "tf.__version__"
      ],
      "execution_count": 55,
      "outputs": [
        {
          "output_type": "execute_result",
          "data": {
            "application/vnd.google.colaboratory.intrinsic+json": {
              "type": "string"
            },
            "text/plain": [
              "'2.7.0'"
            ]
          },
          "metadata": {},
          "execution_count": 55
        }
      ]
    },
    {
      "cell_type": "code",
      "metadata": {
        "id": "YAbj5vdS5f0f"
      },
      "source": [
        "#prediction and check performance metrics\n",
        "train_predict=model.predict(X_train)\n",
        "test_predict=model.predict(X_test)"
      ],
      "execution_count": 56,
      "outputs": []
    },
    {
      "cell_type": "code",
      "metadata": {
        "id": "rViwIohA5f0g"
      },
      "source": [
        "##Transformback to original form\n",
        "train_predict=scaler.inverse_transform(train_predict)\n",
        "test_predict=scaler.inverse_transform(test_predict)"
      ],
      "execution_count": 57,
      "outputs": []
    },
    {
      "cell_type": "code",
      "metadata": {
        "id": "XgMKcaJI5f0g",
        "colab": {
          "base_uri": "https://localhost:8080/"
        },
        "outputId": "77e0da4c-e58e-4891-b8bc-b925915298a3"
      },
      "source": [
        "### Calculate RMSE performance metrics\n",
        "import math\n",
        "from sklearn.metrics import mean_squared_error\n",
        "math.sqrt(mean_squared_error(y_train,train_predict))"
      ],
      "execution_count": 58,
      "outputs": [
        {
          "output_type": "execute_result",
          "data": {
            "text/plain": [
              "8957.293998395313"
            ]
          },
          "metadata": {},
          "execution_count": 58
        }
      ]
    },
    {
      "cell_type": "code",
      "metadata": {
        "id": "1Kn3ZZWD5f0i",
        "colab": {
          "base_uri": "https://localhost:8080/"
        },
        "outputId": "29c153e7-6a17-4deb-a594-c11657fe8216"
      },
      "source": [
        "### Test Data RMSE\n",
        "math.sqrt(mean_squared_error(ytest,test_predict))"
      ],
      "execution_count": 59,
      "outputs": [
        {
          "output_type": "execute_result",
          "data": {
            "text/plain": [
              "34163.60845839944"
            ]
          },
          "metadata": {},
          "execution_count": 59
        }
      ]
    },
    {
      "cell_type": "code",
      "metadata": {
        "id": "O2pkazUY5f0j",
        "colab": {
          "base_uri": "https://localhost:8080/",
          "height": 296
        },
        "outputId": "06a958a7-4f66-4032-97d1-95cdcc1c48ef"
      },
      "source": [
        "\n",
        "# shift train predictions for plotting\n",
        "from pylab import rcParams\n",
        "rcParams['figure.figsize'] = 30, 5\n",
        "look_back=4\n",
        "trainPredictPlot = numpy.empty_like(df1)\n",
        "trainPredictPlot[:, :] = np.nan\n",
        "trainPredictPlot[look_back:len(train_predict)+look_back, :] = train_predict\n",
        "# shift test predictions for plotting\n",
        "testPredictPlot = numpy.empty_like(df1)\n",
        "testPredictPlot[:, :] = numpy.nan\n",
        "testPredictPlot[len(train_predict)+(look_back*2)+1:len(df1)-1, :] = test_predict\n",
        "# plot baseline and predictions\n",
        "plt.plot(scaler.inverse_transform(df1))\n",
        "plt.plot(trainPredictPlot)\n",
        "plt.plot(testPredictPlot)\n",
        "plt.gca().set(title=\"Orange - train prediction : Green - test prediction \", xlabel=\"Time index\", ylabel=\"Total Vehicle Count\")\n",
        "plt.show()"
      ],
      "execution_count": 61,
      "outputs": [
        {
          "output_type": "display_data",
          "data": {
            "image/png": "[encoded data removed]",
            "text/plain": [
              "<Figure size 2160x360 with 1 Axes>"
            ]
          },
          "metadata": {
            "needs_background": "light"
          }
        }
      ]
    },
    {
      "cell_type": "code",
      "metadata": {
        "id": "PWoHrFNE5f0k",
        "colab": {
          "base_uri": "https://localhost:8080/"
        },
        "outputId": "fd36640b-87fa-4ac4-e50e-eadf0ea7db78"
      },
      "source": [
        "L=len(test_data)\n",
        "L"
      ],
      "execution_count": 62,
      "outputs": [
        {
          "output_type": "execute_result",
          "data": {
            "text/plain": [
              "10"
            ]
          },
          "metadata": {},
          "execution_count": 62
        }
      ]
    },
    {
      "cell_type": "code",
      "metadata": {
        "id": "ZMFNrima5f0l",
        "colab": {
          "base_uri": "https://localhost:8080/"
        },
        "outputId": "040b5e4f-6254-4762-955f-dbe18c90a235"
      },
      "source": [
        "x_input=test_data[(L-4):].reshape(1,-1)\n",
        "x_input.shape"
      ],
      "execution_count": 64,
      "outputs": [
        {
          "output_type": "execute_result",
          "data": {
            "text/plain": [
              "(1, 4)"
            ]
          },
          "metadata": {},
          "execution_count": 64
        }
      ]
    },
    {
      "cell_type": "code",
      "metadata": {
        "id": "Hbuh_eU55f0m"
      },
      "source": [
        "temp_input=list(x_input)\n",
        "temp_input=temp_input[0].tolist()"
      ],
      "execution_count": 65,
      "outputs": []
    },
    {
      "cell_type": "code",
      "metadata": {
        "id": "rqZP2u9R5f0m",
        "colab": {
          "base_uri": "https://localhost:8080/"
        },
        "outputId": "9257d4e5-6da5-46c8-e59c-8e3de6559df5"
      },
      "source": [
        "temp_input"
      ],
      "execution_count": 66,
      "outputs": [
        {
          "output_type": "execute_result",
          "data": {
            "text/plain": [
              "[0.6425134152674399, 0.774519646875541, 0.9185044140557383, 1.0]"
            ]
          },
          "metadata": {},
          "execution_count": 66
        }
      ]
    },
    {
      "cell_type": "code",
      "metadata": {
        "id": "8JZq6AAG5f0n"
      },
      "source": [
        "#prediction for the next N time points\n",
        "N=10\n",
        "\n",
        "from numpy import array\n",
        "\n",
        "lst_output=[]\n",
        "n_steps=4\n",
        "i=0\n",
        "while(i<N):\n",
        "    \n",
        "    if(len(temp_input)>100):\n",
        "        #print(temp_input)\n",
        "        x_input=np.array(temp_input[1:])\n",
        "        print(\"{} day input {}\".format(i,x_input))\n",
        "        x_input=x_input.reshape(1,-1)\n",
        "        x_input = x_input.reshape((1, n_steps, 1))\n",
        "        #print(x_input)\n",
        "        yhat = model.predict(x_input, verbose=0)\n",
        "        print(\"{} day output {}\".format(i,yhat))\n",
        "        temp_input.extend(yhat[0].tolist())\n",
        "        temp_input=temp_input[1:]\n",
        "        #print(temp_input)\n",
        "        lst_output.extend(yhat.tolist())\n",
        "        i=i+1\n",
        "    else:\n",
        "        x_input = x_input.reshape((1, n_steps,1))\n",
        "        yhat = model.predict(x_input, verbose=0)\n",
        "        print(yhat[0])\n",
        "        temp_input.extend(yhat[0].tolist())\n",
        "        print(len(temp_input))\n",
        "        lst_output.extend(yhat.tolist())\n",
        "        i=i+1\n",
        "    \n",
        "\n",
        "print(lst_output)"
      ],
      "execution_count": null,
      "outputs": []
    },
    {
      "cell_type": "code",
      "metadata": {
        "id": "Vv4jgm325f0o"
      },
      "source": [
        "time_new=np.arange(1993,2020)\n",
        "time_after=np.arange(2020,2030)"
      ],
      "execution_count": 76,
      "outputs": []
    },
    {
      "cell_type": "code",
      "metadata": {
        "id": "XYJMgvyZMq4O",
        "colab": {
          "base_uri": "https://localhost:8080/"
        },
        "outputId": "7d8fe764-fd4d-4dae-e990-dc72e91264b0"
      },
      "source": [
        "l=len(df1)\n",
        "l"
      ],
      "execution_count": 77,
      "outputs": [
        {
          "output_type": "execute_result",
          "data": {
            "text/plain": [
              "28"
            ]
          },
          "metadata": {},
          "execution_count": 77
        }
      ]
    },
    {
      "cell_type": "code",
      "metadata": {
        "id": "2C37_CNT5f0o"
      },
      "source": [
        "import matplotlib.pyplot as plt"
      ],
      "execution_count": 78,
      "outputs": []
    },
    {
      "cell_type": "code",
      "metadata": {
        "id": "OqJ8Duul5f0p",
        "colab": {
          "base_uri": "https://localhost:8080/",
          "height": 290
        },
        "outputId": "eeb1929b-0866-4da0-819b-d36adb3cba33"
      },
      "source": [
        "#Orange shows the prediction, blue shows the time series data\n",
        "\n",
        "plt.plot(time_new,scaler.inverse_transform(df1[(l-27):]))\n",
        "plt.plot(time_after,scaler.inverse_transform(lst_output))"
      ],
      "execution_count": 79,
      "outputs": [
        {
          "output_type": "execute_result",
          "data": {
            "text/plain": [
              "[<matplotlib.lines.Line2D at 0x7fc661e22a50>]"
            ]
          },
          "metadata": {},
          "execution_count": 79
        },
        {
          "output_type": "display_data",
          "data": {
            "image/png": "[encoded data removed]",
            "text/plain": [
              "<Figure size 2160x360 with 1 Axes>"
            ]
          },
          "metadata": {
            "needs_background": "light"
          }
        }
      ]
    },
    {
      "cell_type": "code",
      "metadata": {
        "id": "XZqDyrCGguEJ"
      },
      "source": [
        ""
      ],
      "execution_count": null,
      "outputs": []
    },
    {
      "cell_type": "code",
      "metadata": {
        "id": "APWCYcnHguQs"
      },
      "source": [
        ""
      ],
      "execution_count": null,
      "outputs": []
    },
    {
      "cell_type": "code",
      "metadata": {
        "id": "8Mzyg7B_guUB"
      },
      "source": [
        ""
      ],
      "execution_count": null,
      "outputs": []
    }
  ]
}