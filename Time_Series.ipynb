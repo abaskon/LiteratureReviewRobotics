{
  "nbformat": 4,
  "nbformat_minor": 0,
  "metadata": {
    "colab": {
      "name": "Time_Series.ipynb",
      "provenance": [],
      "authorship_tag": "ABX9TyP6GhpjTqwsrRmJ7LzlYTfR",
      "include_colab_link": true
    },
    "kernelspec": {
      "name": "python3",
      "display_name": "Python 3"
    },
    "language_info": {
      "name": "python"
    }
  },
  "cells": [
    {
      "cell_type": "markdown",
      "metadata": {
        "id": "view-in-github",
        "colab_type": "text"
      },
      "source": [
        "<a href=\"https://colab.research.google.com/github/abaskon/LiteratureReviewRobotics/blob/main/Time_Series.ipynb\" target=\"_parent\"><img src=\"https://colab.research.google.com/assets/colab-badge.svg\" alt=\"Open In Colab\"/></a>"
      ]
    },
    {
      "cell_type": "code",
      "metadata": {
        "colab": {
          "base_uri": "https://localhost:8080/"
        },
        "id": "GN1zbkt-Nxfx",
        "outputId": "e85b6dec-5c8a-412a-89d6-6d3629ae3d6f"
      },
      "source": [
        "!git clone https://github.com/abaskon/Time_series.git"
      ],
      "execution_count": 1,
      "outputs": [
        {
          "output_type": "stream",
          "name": "stdout",
          "text": [
            "Cloning into 'Time_series'...\n",
            "remote: Enumerating objects: 35, done.\u001b[K\n",
            "remote: Counting objects: 100% (35/35), done.\u001b[K\n",
            "remote: Compressing objects: 100% (30/30), done.\u001b[K\n",
            "remote: Total 35 (delta 5), reused 0 (delta 0), pack-reused 0\u001b[K\n",
            "Unpacking objects: 100% (35/35), done.\n"
          ]
        }
      ]
    },
    {
      "cell_type": "code",
      "metadata": {
        "id": "haGi0FujaTU3"
      },
      "source": [
        "import numpy as np \n",
        "import pandas as pd \n",
        "import matplotlib as mpl\n",
        "import matplotlib.pyplot as plt  \n",
        "#from tensorflow import keras\n",
        "#from tensorflow.keras import layers"
      ],
      "execution_count": 36,
      "outputs": []
    },
    {
      "cell_type": "code",
      "metadata": {
        "id": "4vsWashyYS08"
      },
      "source": [
        "url_csv = 'https://raw.githubusercontent.com/abaskon/Time_series/main/Trial_DataSets/AirPassengers.csv'\n",
        "df = pd.read_csv(url_csv,encoding = 'unicode_escape')"
      ],
      "execution_count": 3,
      "outputs": []
    },
    {
      "cell_type": "code",
      "metadata": {
        "id": "pswUU55dMf5K"
      },
      "source": [
        "\n",
        "url_json = 'https://raw.githubusercontent.com/abaskon/Time_series/main/brar_square.json'\n",
        "df2 = pd.read_json(url_json,encoding = 'unicode_escape')\n"
      ],
      "execution_count": 29,
      "outputs": []
    },
    {
      "cell_type": "code",
      "metadata": {
        "id": "fCNy94QhPopo"
      },
      "source": [
        "df2.to_csv(\"CSV.csv\")"
      ],
      "execution_count": 28,
      "outputs": []
    },
    {
      "cell_type": "code",
      "metadata": {
        "colab": {
          "base_uri": "https://localhost:8080/",
          "height": 359
        },
        "id": "Bh9OtZ-hQPIR",
        "outputId": "83c41589-db75-41c1-d59b-75e90ab79002"
      },
      "source": [
        "df2.head(10)"
      ],
      "execution_count": 33,
      "outputs": [
        {
          "output_type": "execute_result",
          "data": {
            "text/html": [
              "<div>\n",
              "<style scoped>\n",
              "    .dataframe tbody tr th:only-of-type {\n",
              "        vertical-align: middle;\n",
              "    }\n",
              "\n",
              "    .dataframe tbody tr th {\n",
              "        vertical-align: top;\n",
              "    }\n",
              "\n",
              "    .dataframe thead th {\n",
              "        text-align: right;\n",
              "    }\n",
              "</style>\n",
              "<table border=\"1\" class=\"dataframe\">\n",
              "  <thead>\n",
              "    <tr style=\"text-align: right;\">\n",
              "      <th></th>\n",
              "      <th>_id</th>\n",
              "      <th>station</th>\n",
              "      <th>createdAt</th>\n",
              "      <th>congestions</th>\n",
              "      <th>miscCongestions</th>\n",
              "      <th>updatedAt</th>\n",
              "      <th>__v</th>\n",
              "    </tr>\n",
              "  </thead>\n",
              "  <tbody>\n",
              "    <tr>\n",
              "      <th>0</th>\n",
              "      <td>6181613ab026e43799bde166</td>\n",
              "      <td>612257f368b8102b4cbf634e</td>\n",
              "      <td>2021-11-02T16:03:02.000Z</td>\n",
              "      <td>[{'bayId': '612257f368b8102b4cbf6355', 'conges...</td>\n",
              "      <td>[]</td>\n",
              "      <td>2021-11-02T16:03:06.015Z</td>\n",
              "      <td>0</td>\n",
              "    </tr>\n",
              "    <tr>\n",
              "      <th>1</th>\n",
              "      <td>61816175cb738b3792e5fa20</td>\n",
              "      <td>612257f368b8102b4cbf634e</td>\n",
              "      <td>2021-11-02T16:04:01.000Z</td>\n",
              "      <td>[{'bayId': '612257f368b8102b4cbf6356', 'conges...</td>\n",
              "      <td>[{'bayId': '612257f368b8102b4cbf635c', 'conges...</td>\n",
              "      <td>2021-11-02T16:04:05.065Z</td>\n",
              "      <td>0</td>\n",
              "    </tr>\n",
              "    <tr>\n",
              "      <th>2</th>\n",
              "      <td>618161b1cb738b3792e5fae2</td>\n",
              "      <td>612257f368b8102b4cbf634e</td>\n",
              "      <td>2021-11-02T16:05:01.000Z</td>\n",
              "      <td>[{'bayId': '612257f368b8102b4cbf6356', 'conges...</td>\n",
              "      <td>[{'bayId': '612257f368b8102b4cbf635c', 'conges...</td>\n",
              "      <td>2021-11-02T16:05:05.205Z</td>\n",
              "      <td>0</td>\n",
              "    </tr>\n",
              "    <tr>\n",
              "      <th>3</th>\n",
              "      <td>618161edcb738b3792e5fb9e</td>\n",
              "      <td>612257f368b8102b4cbf634e</td>\n",
              "      <td>2021-11-02T16:06:01.000Z</td>\n",
              "      <td>[{'bayId': '612257f368b8102b4cbf6356', 'conges...</td>\n",
              "      <td>[{'bayId': '612257f368b8102b4cbf635c', 'conges...</td>\n",
              "      <td>2021-11-02T16:06:05.128Z</td>\n",
              "      <td>0</td>\n",
              "    </tr>\n",
              "    <tr>\n",
              "      <th>4</th>\n",
              "      <td>61816229cb738b3792e5fc38</td>\n",
              "      <td>612257f368b8102b4cbf634e</td>\n",
              "      <td>2021-11-02T16:07:01.000Z</td>\n",
              "      <td>[{'bayId': '612257f368b8102b4cbf6359', 'conges...</td>\n",
              "      <td>[{'bayId': '612257f368b8102b4cbf635c', 'conges...</td>\n",
              "      <td>2021-11-02T16:07:05.104Z</td>\n",
              "      <td>0</td>\n",
              "    </tr>\n",
              "    <tr>\n",
              "      <th>5</th>\n",
              "      <td>61816265cb738b3792e5fcc0</td>\n",
              "      <td>612257f368b8102b4cbf634e</td>\n",
              "      <td>2021-11-02T16:08:01.000Z</td>\n",
              "      <td>[{'bayId': '612257f368b8102b4cbf6356', 'conges...</td>\n",
              "      <td>[{'bayId': '612257f368b8102b4cbf635c', 'conges...</td>\n",
              "      <td>2021-11-02T16:08:05.131Z</td>\n",
              "      <td>0</td>\n",
              "    </tr>\n",
              "    <tr>\n",
              "      <th>6</th>\n",
              "      <td>618162a1cb738b3792e5fd65</td>\n",
              "      <td>612257f368b8102b4cbf634e</td>\n",
              "      <td>2021-11-02T16:09:01.000Z</td>\n",
              "      <td>[{'bayId': '612257f368b8102b4cbf6356', 'conges...</td>\n",
              "      <td>[{'bayId': '612257f368b8102b4cbf635c', 'conges...</td>\n",
              "      <td>2021-11-02T16:09:05.158Z</td>\n",
              "      <td>0</td>\n",
              "    </tr>\n",
              "    <tr>\n",
              "      <th>7</th>\n",
              "      <td>618162ddcb738b3792e5fe07</td>\n",
              "      <td>612257f368b8102b4cbf634e</td>\n",
              "      <td>2021-11-02T16:10:01.000Z</td>\n",
              "      <td>[{'bayId': '612257f368b8102b4cbf6357', 'conges...</td>\n",
              "      <td>[{'bayId': '612257f368b8102b4cbf635c', 'conges...</td>\n",
              "      <td>2021-11-02T16:10:05.173Z</td>\n",
              "      <td>0</td>\n",
              "    </tr>\n",
              "    <tr>\n",
              "      <th>8</th>\n",
              "      <td>61816319cb738b3792e5febf</td>\n",
              "      <td>612257f368b8102b4cbf634e</td>\n",
              "      <td>2021-11-02T16:11:01.000Z</td>\n",
              "      <td>[{'bayId': '612257f368b8102b4cbf6356', 'conges...</td>\n",
              "      <td>[{'bayId': '612257f368b8102b4cbf635c', 'conges...</td>\n",
              "      <td>2021-11-02T16:11:05.376Z</td>\n",
              "      <td>0</td>\n",
              "    </tr>\n",
              "    <tr>\n",
              "      <th>9</th>\n",
              "      <td>618163555bbb89386da2ad00</td>\n",
              "      <td>612257f368b8102b4cbf634e</td>\n",
              "      <td>2021-11-02T16:12:01.000Z</td>\n",
              "      <td>[{'bayId': '612257f368b8102b4cbf6356', 'conges...</td>\n",
              "      <td>[{'bayId': '612257f368b8102b4cbf635c', 'conges...</td>\n",
              "      <td>2021-11-02T16:12:05.296Z</td>\n",
              "      <td>0</td>\n",
              "    </tr>\n",
              "  </tbody>\n",
              "</table>\n",
              "</div>"
            ],
            "text/plain": [
              "                        _id  ... __v\n",
              "0  6181613ab026e43799bde166  ...   0\n",
              "1  61816175cb738b3792e5fa20  ...   0\n",
              "2  618161b1cb738b3792e5fae2  ...   0\n",
              "3  618161edcb738b3792e5fb9e  ...   0\n",
              "4  61816229cb738b3792e5fc38  ...   0\n",
              "5  61816265cb738b3792e5fcc0  ...   0\n",
              "6  618162a1cb738b3792e5fd65  ...   0\n",
              "7  618162ddcb738b3792e5fe07  ...   0\n",
              "8  61816319cb738b3792e5febf  ...   0\n",
              "9  618163555bbb89386da2ad00  ...   0\n",
              "\n",
              "[10 rows x 7 columns]"
            ]
          },
          "metadata": {},
          "execution_count": 33
        }
      ]
    },
    {
      "cell_type": "code",
      "metadata": {
        "colab": {
          "base_uri": "https://localhost:8080/"
        },
        "id": "v89hFmPZhLe0",
        "outputId": "9dcd7d86-ad4a-4796-daa4-c08ef964a4f6"
      },
      "source": [
        "df2.info()"
      ],
      "execution_count": 18,
      "outputs": [
        {
          "output_type": "stream",
          "name": "stdout",
          "text": [
            "<class 'pandas.core.frame.DataFrame'>\n",
            "RangeIndex: 1441 entries, 0 to 1440\n",
            "Data columns (total 7 columns):\n",
            " #   Column           Non-Null Count  Dtype \n",
            "---  ------           --------------  ----- \n",
            " 0   _id              1441 non-null   object\n",
            " 1   station          1441 non-null   object\n",
            " 2   createdAt        1441 non-null   object\n",
            " 3   congestions      1441 non-null   object\n",
            " 4   miscCongestions  1441 non-null   object\n",
            " 5   updatedAt        1441 non-null   object\n",
            " 6   __v              1441 non-null   int64 \n",
            "dtypes: int64(1), object(6)\n",
            "memory usage: 78.9+ KB\n"
          ]
        }
      ]
    },
    {
      "cell_type": "code",
      "metadata": {
        "colab": {
          "base_uri": "https://localhost:8080/"
        },
        "id": "GdUTPiS-dZhm",
        "outputId": "a0bcf78f-81ce-4a45-d98d-9b937533e1b7"
      },
      "source": [
        "pd.unique(df2.station)\n",
        "\n",
        "#Unique Staion Id No : 612257f368b8102b4cbf634e"
      ],
      "execution_count": 16,
      "outputs": [
        {
          "output_type": "execute_result",
          "data": {
            "text/plain": [
              "array(['612257f368b8102b4cbf634e'], dtype=object)"
            ]
          },
          "metadata": {},
          "execution_count": 16
        }
      ]
    },
    {
      "cell_type": "code",
      "metadata": {
        "id": "d42XsKsTdZte",
        "colab": {
          "base_uri": "https://localhost:8080/"
        },
        "outputId": "4f4e3ae4-414e-4ca3-c0b5-022d2550fc35"
      },
      "source": [
        "df2.congestions[100]"
      ],
      "execution_count": 73,
      "outputs": [
        {
          "output_type": "execute_result",
          "data": {
            "text/plain": [
              "[{'bayId': '612257f368b8102b4cbf6359',\n",
              "  'congestion': [{'count': 1, 'vType': 'auto'}]},\n",
              " {'bayId': '612257f368b8102b4cbf6355',\n",
              "  'congestion': [{'count': 1, 'vType': 'hmv'}]},\n",
              " {'bayId': '612257f368b8102b4cbf6356',\n",
              "  'congestion': [{'count': 2, 'vType': 'car'}, {'count': 1, 'vType': 'hmv'}]},\n",
              " {'bayId': '612257f368b8102b4cbf6352',\n",
              "  'congestion': [{'count': 1, 'vType': 'hmv'}]},\n",
              " {'bayId': '612257f368b8102b4cbf6353',\n",
              "  'congestion': [{'count': 1, 'vType': 'hmv'}]},\n",
              " {'bayId': '612257f368b8102b4cbf6354',\n",
              "  'congestion': [{'count': 1, 'vType': 'hmv'}]}]"
            ]
          },
          "metadata": {},
          "execution_count": 73
        }
      ]
    },
    {
      "cell_type": "code",
      "metadata": {
        "colab": {
          "base_uri": "https://localhost:8080/",
          "height": 49
        },
        "id": "-ga5YWE-GkGg",
        "outputId": "a5e49abe-9780-4455-8931-4e626ec31990"
      },
      "source": [
        "Baycount = pd.DataFrame(columns = ['bayId', 'congestion_count'])\n"
      ],
      "execution_count": 45,
      "outputs": [
        {
          "output_type": "execute_result",
          "data": {
            "text/html": [
              "<div>\n",
              "<style scoped>\n",
              "    .dataframe tbody tr th:only-of-type {\n",
              "        vertical-align: middle;\n",
              "    }\n",
              "\n",
              "    .dataframe tbody tr th {\n",
              "        vertical-align: top;\n",
              "    }\n",
              "\n",
              "    .dataframe thead th {\n",
              "        text-align: right;\n",
              "    }\n",
              "</style>\n",
              "<table border=\"1\" class=\"dataframe\">\n",
              "  <thead>\n",
              "    <tr style=\"text-align: right;\">\n",
              "      <th></th>\n",
              "      <th>bayId</th>\n",
              "      <th>congestion_count</th>\n",
              "    </tr>\n",
              "  </thead>\n",
              "  <tbody>\n",
              "  </tbody>\n",
              "</table>\n",
              "</div>"
            ],
            "text/plain": [
              "Empty DataFrame\n",
              "Columns: [bayId, congestion_count]\n",
              "Index: []"
            ]
          },
          "metadata": {},
          "execution_count": 45
        }
      ]
    },
    {
      "cell_type": "code",
      "metadata": {
        "colab": {
          "base_uri": "https://localhost:8080/"
        },
        "id": "kJ-TuOPeIrE5",
        "outputId": "25ee5ffe-5bef-4f90-f71d-d5ac555dbc43"
      },
      "source": [
        "# trial snippet for the upcoming loop\n",
        "\n",
        "row = 100 #the row of the dataframe (random value assigned)\n",
        "bayno = 2 #The Sl number of the bay \n",
        "vType_count= len(df2.congestions[row][bayno]['congestion']) #the number of types of vehicles \n",
        "df2.congestions[row][bayno]['congestion']\n",
        "\n"
      ],
      "execution_count": 77,
      "outputs": [
        {
          "output_type": "execute_result",
          "data": {
            "text/plain": [
              "[{'count': 2, 'vType': 'car'}, {'count': 1, 'vType': 'hmv'}]"
            ]
          },
          "metadata": {},
          "execution_count": 77
        }
      ]
    },
    {
      "cell_type": "code",
      "metadata": {
        "id": "hgr3PAjoO1em"
      },
      "source": [
        "#initialise Fixed details of the station"
      ],
      "execution_count": 68,
      "outputs": []
    },
    {
      "cell_type": "code",
      "metadata": {
        "colab": {
          "base_uri": "https://localhost:8080/"
        },
        "id": "eoVyilIvUc8I",
        "outputId": "8fd1270b-d8cf-4105-910a-289e519f4902"
      },
      "source": [
        "df2.congestions[100][2]['congestion'][1]['count']"
      ],
      "execution_count": 82,
      "outputs": [
        {
          "output_type": "execute_result",
          "data": {
            "text/plain": [
              "1"
            ]
          },
          "metadata": {},
          "execution_count": 82
        }
      ]
    },
    {
      "cell_type": "code",
      "metadata": {
        "id": "rj-h2NyOdZwK",
        "colab": {
          "base_uri": "https://localhost:8080/",
          "height": 198
        },
        "outputId": "5bbf8f7e-3586-4abc-8102-8be9bfcc1fc4"
      },
      "source": [
        "tot_rows = len(df2)\n",
        "for row in range(tot_rows-1):\n",
        "    active_bays = len(df2.congestions[row])\n",
        "    for bayno in range(active_bays-1):\n",
        "      v_types = len(df2.congestions[row][bayno])\n",
        "      for v in range(v_types-1):\n",
        "        baywise_count[bayno] = baywise_count[bayno] + df2.congestions[row][bayno]['congestion'][v]['count']"
      ],
      "execution_count": 94,
      "outputs": [
        {
          "output_type": "error",
          "ename": "TypeError",
          "evalue": "ignored",
          "traceback": [
            "\u001b[0;31m---------------------------------------------------------------------------\u001b[0m",
            "\u001b[0;31mTypeError\u001b[0m                                 Traceback (most recent call last)",
            "\u001b[0;32m<ipython-input-94-ea5fe7b038ec>\u001b[0m in \u001b[0;36m<module>\u001b[0;34m()\u001b[0m\n\u001b[1;32m      5\u001b[0m       \u001b[0mv_types\u001b[0m \u001b[0;34m=\u001b[0m \u001b[0mlen\u001b[0m\u001b[0;34m(\u001b[0m\u001b[0mdf2\u001b[0m\u001b[0;34m.\u001b[0m\u001b[0mcongestions\u001b[0m\u001b[0;34m[\u001b[0m\u001b[0mrow\u001b[0m\u001b[0;34m]\u001b[0m\u001b[0;34m[\u001b[0m\u001b[0mbayno\u001b[0m\u001b[0;34m]\u001b[0m\u001b[0;34m)\u001b[0m\u001b[0;34m\u001b[0m\u001b[0;34m\u001b[0m\u001b[0m\n\u001b[1;32m      6\u001b[0m       \u001b[0;32mfor\u001b[0m \u001b[0mv\u001b[0m \u001b[0;32min\u001b[0m \u001b[0mrange\u001b[0m\u001b[0;34m(\u001b[0m\u001b[0mv_types\u001b[0m\u001b[0;34m-\u001b[0m\u001b[0;36m1\u001b[0m\u001b[0;34m)\u001b[0m\u001b[0;34m:\u001b[0m\u001b[0;34m\u001b[0m\u001b[0;34m\u001b[0m\u001b[0m\n\u001b[0;32m----> 7\u001b[0;31m         \u001b[0mbaywise_count\u001b[0m\u001b[0;34m[\u001b[0m\u001b[0mbayno\u001b[0m\u001b[0;34m]\u001b[0m \u001b[0;34m=\u001b[0m \u001b[0mbaywise_count\u001b[0m\u001b[0;34m[\u001b[0m\u001b[0mbayno\u001b[0m\u001b[0;34m]\u001b[0m \u001b[0;34m+\u001b[0m \u001b[0mdf2\u001b[0m\u001b[0;34m.\u001b[0m\u001b[0mcongestions\u001b[0m\u001b[0;34m[\u001b[0m\u001b[0mrow\u001b[0m\u001b[0;34m]\u001b[0m\u001b[0;34m[\u001b[0m\u001b[0mbayno\u001b[0m\u001b[0;34m]\u001b[0m\u001b[0;34m[\u001b[0m\u001b[0;34m'congestion'\u001b[0m\u001b[0;34m]\u001b[0m\u001b[0;34m[\u001b[0m\u001b[0mv\u001b[0m\u001b[0;34m]\u001b[0m\u001b[0;34m[\u001b[0m\u001b[0;34m'count'\u001b[0m\u001b[0;34m]\u001b[0m\u001b[0;34m\u001b[0m\u001b[0;34m\u001b[0m\u001b[0m\n\u001b[0m",
            "\u001b[0;31mTypeError\u001b[0m: 'function' object is not subscriptable"
          ]
        }
      ]
    },
    {
      "cell_type": "code",
      "metadata": {
        "colab": {
          "base_uri": "https://localhost:8080/",
          "height": 181
        },
        "id": "r4UV3lHDbpa6",
        "outputId": "2a711ff6-5411-4b9f-c889-5bd7ea6f9e0d"
      },
      "source": [
        "baywise_count[0] =0\n",
        "baywise_count[0] = baywise_count[0] + 2"
      ],
      "execution_count": 98,
      "outputs": [
        {
          "output_type": "error",
          "ename": "TypeError",
          "evalue": "ignored",
          "traceback": [
            "\u001b[0;31m---------------------------------------------------------------------------\u001b[0m",
            "\u001b[0;31mTypeError\u001b[0m                                 Traceback (most recent call last)",
            "\u001b[0;32m<ipython-input-98-1fc3e726c69d>\u001b[0m in \u001b[0;36m<module>\u001b[0;34m()\u001b[0m\n\u001b[0;32m----> 1\u001b[0;31m \u001b[0mbaywise_count\u001b[0m\u001b[0;34m[\u001b[0m\u001b[0;36m0\u001b[0m\u001b[0;34m]\u001b[0m \u001b[0;34m=\u001b[0m\u001b[0;36m0\u001b[0m\u001b[0;34m\u001b[0m\u001b[0;34m\u001b[0m\u001b[0m\n\u001b[0m\u001b[1;32m      2\u001b[0m \u001b[0mbaywise_count\u001b[0m\u001b[0;34m[\u001b[0m\u001b[0;36m0\u001b[0m\u001b[0;34m]\u001b[0m \u001b[0;34m=\u001b[0m \u001b[0mbaywise_count\u001b[0m\u001b[0;34m[\u001b[0m\u001b[0;36m0\u001b[0m\u001b[0;34m]\u001b[0m \u001b[0;34m+\u001b[0m \u001b[0;36m2\u001b[0m\u001b[0;34m\u001b[0m\u001b[0;34m\u001b[0m\u001b[0m\n",
            "\u001b[0;31mTypeError\u001b[0m: 'function' object does not support item assignment"
          ]
        }
      ]
    },
    {
      "cell_type": "code",
      "metadata": {
        "id": "YbJUKAkLdZzR",
        "colab": {
          "base_uri": "https://localhost:8080/",
          "height": 297
        },
        "outputId": "b8f8ed95-2a0d-49f0-d3af-3e56d545658d"
      },
      "source": [
        "pd.DataFrame.from_dict(df2.congestions[1])"
      ],
      "execution_count": 42,
      "outputs": [
        {
          "output_type": "execute_result",
          "data": {
            "text/html": [
              "<div>\n",
              "<style scoped>\n",
              "    .dataframe tbody tr th:only-of-type {\n",
              "        vertical-align: middle;\n",
              "    }\n",
              "\n",
              "    .dataframe tbody tr th {\n",
              "        vertical-align: top;\n",
              "    }\n",
              "\n",
              "    .dataframe thead th {\n",
              "        text-align: right;\n",
              "    }\n",
              "</style>\n",
              "<table border=\"1\" class=\"dataframe\">\n",
              "  <thead>\n",
              "    <tr style=\"text-align: right;\">\n",
              "      <th></th>\n",
              "      <th>bayId</th>\n",
              "      <th>congestion</th>\n",
              "    </tr>\n",
              "  </thead>\n",
              "  <tbody>\n",
              "    <tr>\n",
              "      <th>0</th>\n",
              "      <td>612257f368b8102b4cbf6356</td>\n",
              "      <td>[{'count': 1, 'vType': 'car'}, {'count': 1, 'v...</td>\n",
              "    </tr>\n",
              "    <tr>\n",
              "      <th>1</th>\n",
              "      <td>612257f368b8102b4cbf6357</td>\n",
              "      <td>[{'count': 1, 'vType': 'car'}]</td>\n",
              "    </tr>\n",
              "    <tr>\n",
              "      <th>2</th>\n",
              "      <td>612257f368b8102b4cbf6358</td>\n",
              "      <td>[{'count': 1, 'vType': 'car'}]</td>\n",
              "    </tr>\n",
              "    <tr>\n",
              "      <th>3</th>\n",
              "      <td>612257f368b8102b4cbf6354</td>\n",
              "      <td>[{'count': 3, 'vType': 'car'}]</td>\n",
              "    </tr>\n",
              "    <tr>\n",
              "      <th>4</th>\n",
              "      <td>612257f368b8102b4cbf6351</td>\n",
              "      <td>[{'count': 1, 'vType': 'hmv'}]</td>\n",
              "    </tr>\n",
              "    <tr>\n",
              "      <th>5</th>\n",
              "      <td>612257f368b8102b4cbf6353</td>\n",
              "      <td>[{'count': 1, 'vType': 'car'}]</td>\n",
              "    </tr>\n",
              "    <tr>\n",
              "      <th>6</th>\n",
              "      <td>612257f368b8102b4cbf6352</td>\n",
              "      <td>[{'count': 1, 'vType': 'hmv'}]</td>\n",
              "    </tr>\n",
              "    <tr>\n",
              "      <th>7</th>\n",
              "      <td>612257f368b8102b4cbf6355</td>\n",
              "      <td>[{'count': 1, 'vType': 'car'}]</td>\n",
              "    </tr>\n",
              "  </tbody>\n",
              "</table>\n",
              "</div>"
            ],
            "text/plain": [
              "                      bayId                                         congestion\n",
              "0  612257f368b8102b4cbf6356  [{'count': 1, 'vType': 'car'}, {'count': 1, 'v...\n",
              "1  612257f368b8102b4cbf6357                     [{'count': 1, 'vType': 'car'}]\n",
              "2  612257f368b8102b4cbf6358                     [{'count': 1, 'vType': 'car'}]\n",
              "3  612257f368b8102b4cbf6354                     [{'count': 3, 'vType': 'car'}]\n",
              "4  612257f368b8102b4cbf6351                     [{'count': 1, 'vType': 'hmv'}]\n",
              "5  612257f368b8102b4cbf6353                     [{'count': 1, 'vType': 'car'}]\n",
              "6  612257f368b8102b4cbf6352                     [{'count': 1, 'vType': 'hmv'}]\n",
              "7  612257f368b8102b4cbf6355                     [{'count': 1, 'vType': 'car'}]"
            ]
          },
          "metadata": {},
          "execution_count": 42
        }
      ]
    },
    {
      "cell_type": "code",
      "metadata": {
        "id": "O5v1xR1VdZ2w"
      },
      "source": [
        ""
      ],
      "execution_count": null,
      "outputs": []
    },
    {
      "cell_type": "code",
      "metadata": {
        "id": "5y5HimXuIlCG"
      },
      "source": [
        ""
      ],
      "execution_count": null,
      "outputs": []
    },
    {
      "cell_type": "code",
      "metadata": {
        "id": "VSSNFjRQZ-BN"
      },
      "source": [
        ""
      ],
      "execution_count": null,
      "outputs": []
    },
    {
      "cell_type": "code",
      "metadata": {
        "id": "VgNlvxMRwPml"
      },
      "source": [
        ""
      ],
      "execution_count": null,
      "outputs": []
    }
  ]
}