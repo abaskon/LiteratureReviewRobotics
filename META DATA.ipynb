{
 "cells": [
  {
   "cell_type": "code",
   "execution_count": 14,
   "id": "2fe67a98",
   "metadata": {},
   "outputs": [],
   "source": [
    "import pandas as pd\n"
   ]
  },
  {
   "cell_type": "code",
   "execution_count": 28,
   "id": "b1a2b6f4",
   "metadata": {},
   "outputs": [],
   "source": [
    "data_xls = pd.read_excel('2010.xlsx')\n",
    "data_xls.to_csv('2010csv.csv', encoding='utf-8')"
   ]
  },
  {
   "cell_type": "code",
   "execution_count": 30,
   "id": "97d5f5e3",
   "metadata": {},
   "outputs": [
    {
     "name": "stdout",
     "output_type": "stream",
     "text": [
      " Entries: 21707 \n",
      " Index(['Unnamed: 0', 'Authors', 'Author(s) ID', 'Title', 'Year',\n",
      "       'Source title', 'Volume', 'Issue', 'Art. No.', 'Page start', 'Page end',\n",
      "       'Page count', 'Cited by', 'DOI', 'Link', 'Affiliations',\n",
      "       'Authors with affiliations', 'Abstract', 'Author Keywords',\n",
      "       'Index Keywords', 'Molecular Sequence Numbers', 'Chemicals/CAS',\n",
      "       'Tradenames', 'Manufacturers', 'Funding Details', 'Funding Text 1',\n",
      "       'Funding Text 2', 'Funding Text 3', 'Funding Text 4', 'Funding Text 5',\n",
      "       'Funding Text 6', 'References', 'Correspondence Address', 'Editors',\n",
      "       'Sponsors', 'Publisher', 'Conference name', 'Conference date',\n",
      "       'Conference location', 'Conference code', 'ISSN', 'ISBN', 'CODEN',\n",
      "       'PubMed ID', 'Language of Original Document',\n",
      "       'Abbreviated Source Title', 'Document Type', 'Publication Stage',\n",
      "       'Open Access', 'Source', 'EID', 'Unnamed: 46', 'Unnamed: 45',\n",
      "       'Unnamed: 47', 'Unnamed: 48', 'Unnamed: 49', 'Unnamed: 50',\n",
      "       'Unnamed: 51', 'Unnamed: 52', 'Unnamed: 53'],\n",
      "      dtype='object')\n"
     ]
    }
   ],
   "source": [
    "df_1 = pd.read_csv('2010.csv')\n",
    "df_2 = pd.read_csv('2011.csv')\n",
    "df_3 = pd.read_csv('2012.csv')\n",
    "df_4 = pd.read_csv('2013.csv')\n",
    "df_5 = pd.read_csv('2014.csv')\n",
    "df_6 = pd.read_csv('2015.csv')\n",
    "df_7 = pd.read_csv('2016.csv')\n",
    "df_8 = pd.read_csv('2017.csv')\n",
    "df_9 = pd.read_csv('2018.csv')\n",
    "df_10 =pd.read_csv('2019.csv')\n",
    "df_11 =pd.read_csv('2020.csv')\n",
    "\n",
    "\n",
    "data = pd.concat([df_1, df_2, df_3, df_4, df_5, df_6, df_7, df_8, df_9, df_10, df_11], axis = 0)\n",
    "\n",
    "data = data.drop_duplicates(keep = False)\n",
    "print(' Entries:', len(data), '\\n', data.columns)\n"
   ]
  },
  {
   "cell_type": "code",
   "execution_count": 31,
   "id": "6bdfe1cc",
   "metadata": {},
   "outputs": [],
   "source": [
    "data.drop(['Abstract', 'Molecular Sequence Numbers',\n",
    "       'Chemicals/CAS', 'Tradenames', 'Manufacturers', 'Funding Details',\n",
    "       'Funding Text 1', 'Funding Text 2', 'Funding Text 3', 'Funding Text 4', 'Correspondence Address', 'Editors', 'Sponsors', 'ISSN', 'ISBN', 'CODEN'],axis=1,inplace=True)\n"
   ]
  },
  {
   "cell_type": "code",
   "execution_count": 33,
   "id": "68eb0b9b",
   "metadata": {},
   "outputs": [
    {
     "name": "stdout",
     "output_type": "stream",
     "text": [
      " Entries: 21707 \n",
      " Index(['Unnamed: 0', 'Authors', 'Author(s) ID', 'Title', 'Year',\n",
      "       'Source title', 'Volume', 'Issue', 'Art. No.', 'Page start', 'Page end',\n",
      "       'Page count', 'Cited by', 'DOI', 'Link', 'Affiliations',\n",
      "       'Authors with affiliations', 'Author Keywords', 'Index Keywords',\n",
      "       'Funding Text 5', 'Funding Text 6', 'References', 'Publisher',\n",
      "       'Conference name', 'Conference date', 'Conference location',\n",
      "       'Conference code', 'PubMed ID', 'Language of Original Document',\n",
      "       'Abbreviated Source Title', 'Document Type', 'Publication Stage',\n",
      "       'Open Access', 'Source', 'EID', 'Unnamed: 46', 'Unnamed: 45',\n",
      "       'Unnamed: 47', 'Unnamed: 48', 'Unnamed: 49', 'Unnamed: 50',\n",
      "       'Unnamed: 51', 'Unnamed: 52', 'Unnamed: 53'],\n",
      "      dtype='object')\n"
     ]
    }
   ],
   "source": [
    "print(' Entries:', len(data), '\\n', data.columns)"
   ]
  },
  {
   "cell_type": "code",
   "execution_count": 34,
   "id": "159d6966",
   "metadata": {},
   "outputs": [],
   "source": [
    "data.to_csv(r'METADATA.csv')"
   ]
  },
  {
   "cell_type": "code",
   "execution_count": null,
   "id": "80796d72",
   "metadata": {},
   "outputs": [],
   "source": [
    "\n"
   ]
  },
  {
   "cell_type": "code",
   "execution_count": null,
   "id": "7ee410fa",
   "metadata": {},
   "outputs": [],
   "source": []
  }
 ],
 "metadata": {
  "kernelspec": {
   "display_name": "Python 3",
   "language": "python",
   "name": "python3"
  },
  "language_info": {
   "codemirror_mode": {
    "name": "ipython",
    "version": 3
   },
   "file_extension": ".py",
   "mimetype": "text/x-python",
   "name": "python",
   "nbconvert_exporter": "python",
   "pygments_lexer": "ipython3",
   "version": "3.9.1"
  }
 },
 "nbformat": 4,
 "nbformat_minor": 5
}
